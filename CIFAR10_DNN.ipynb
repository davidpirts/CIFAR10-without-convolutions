{
  "nbformat": 4,
  "nbformat_minor": 0,
  "metadata": {
    "colab": {
      "name": "CIFAR10_DNN.ipynb",
      "provenance": [],
      "collapsed_sections": [
        "oGire4qvKW11",
        "55ooGthkxtz2"
      ],
      "include_colab_link": true
    },
    "kernelspec": {
      "name": "python3",
      "display_name": "Python 3"
    },
    "accelerator": "GPU"
  },
  "cells": [
    {
      "cell_type": "markdown",
      "metadata": {
        "id": "view-in-github",
        "colab_type": "text"
      },
      "source": [
        "<a href=\"https://colab.research.google.com/github/dprugby/CIFAR10-without-convolutions/blob/master/CIFAR10_DNN.ipynb\" target=\"_parent\"><img src=\"https://colab.research.google.com/assets/colab-badge.svg\" alt=\"Open In Colab\"/></a>"
      ]
    },
    {
      "cell_type": "markdown",
      "metadata": {
        "id": "-QRV8mxcvF1Q",
        "colab_type": "text"
      },
      "source": [
        "# **CIFAR10: shallow vs. (deep) dense neural networks**"
      ]
    },
    {
      "cell_type": "markdown",
      "metadata": {
        "id": "28q_hreRZd_p",
        "colab_type": "text"
      },
      "source": [
        "## Loading and preprocessing the data"
      ]
    },
    {
      "cell_type": "code",
      "metadata": {
        "id": "u0Pg3TVLvJzW",
        "colab_type": "code",
        "colab": {}
      },
      "source": [
        "import tensorflow as tf\n",
        "from tensorflow import keras\n",
        "import numpy as np"
      ],
      "execution_count": null,
      "outputs": []
    },
    {
      "cell_type": "code",
      "metadata": {
        "id": "mXuTW_MUq5Df",
        "colab_type": "code",
        "colab": {
          "base_uri": "https://localhost:8080/",
          "height": 51
        },
        "outputId": "0829e261-92b8-4fc2-8f27-42efc401b685"
      },
      "source": [
        "# Load the data and inspect image shapes\n",
        "(X_train, y_train), (X_test, y_test) = keras.datasets.cifar10.load_data()\n",
        "print(X_train.shape, X_test.shape)\n",
        "print(y_train.shape, y_test.shape)"
      ],
      "execution_count": null,
      "outputs": [
        {
          "output_type": "stream",
          "text": [
            "(50000, 32, 32, 3) (10000, 32, 32, 3)\n",
            "(50000, 1) (10000, 1)\n"
          ],
          "name": "stdout"
        }
      ]
    },
    {
      "cell_type": "code",
      "metadata": {
        "id": "5p8vEPJDuGbC",
        "colab_type": "code",
        "colab": {
          "base_uri": "https://localhost:8080/",
          "height": 231
        },
        "outputId": "0d94ce63-853d-41f4-f9ee-75973f286ece"
      },
      "source": [
        "# Let's have a look at the images. In many cases, they are not discernible by human eye!\n",
        "import pylab as plt\n",
        "_, axarr = plt.subplots(1,4, figsize=(15, 15)) \n",
        "axarr[0].imshow(X_train[0])\n",
        "axarr[1].imshow(X_train[1])\n",
        "axarr[2].imshow(X_train[2])\n",
        "axarr[3].imshow(X_train[3])\n",
        "plt.show()"
      ],
      "execution_count": null,
      "outputs": [
        {
          "output_type": "display_data",
          "data": {
            "image/png": "[encoded data removed]",
            "text/plain": [
              "<Figure size 1080x1080 with 4 Axes>"
            ]
          },
          "metadata": {
            "tags": [],
            "needs_background": "light"
          }
        }
      ]
    },
    {
      "cell_type": "markdown",
      "metadata": {
        "id": "oGire4qvKW11",
        "colab_type": "text"
      },
      "source": [
        "## Deep dense NN: 20 hidden layers + batch normalization + dropout\n"
      ]
    },
    {
      "cell_type": "markdown",
      "metadata": {
        "id": "55ooGthkxtz2",
        "colab_type": "text"
      },
      "source": [
        "### Tuning the learning rate"
      ]
    },
    {
      "cell_type": "code",
      "metadata": {
        "id": "NQtYShEeBdgo",
        "colab_type": "code",
        "colab": {}
      },
      "source": [
        "# assemble the model\n",
        "model = keras.models.Sequential()\n",
        "model.add(keras.layers.InputLayer(input_shape=(32, 32, 3)))\n",
        "model.add(keras.layers.Flatten())\n",
        "model.add(keras.layers.BatchNormalization()) # initial normalization of the data\n",
        "for _ in range(20):\n",
        "    model.add(keras.layers.Dropout(0.3))\n",
        "    model.add(keras.layers.Dense(128, kernel_initializer=\"he_normal\"))\n",
        "    model.add(keras.layers.BatchNormalization())\n",
        "    model.add(keras.layers.Activation(\"relu\"))\n",
        "model.add(keras.layers.Dense(10, activation=\"softmax\"))"
      ],
      "execution_count": null,
      "outputs": []
    },
    {
      "cell_type": "code",
      "metadata": {
        "id": "gcq67A8DVs5T",
        "colab_type": "code",
        "colab": {}
      },
      "source": [
        "# learning rate schedule\n",
        "lr_schedule = keras.callbacks.LearningRateScheduler(lambda epoch: 1e-4 * 10**(epoch/20))"
      ],
      "execution_count": null,
      "outputs": []
    },
    {
      "cell_type": "code",
      "metadata": {
        "id": "oPNNHzLaXlwZ",
        "colab_type": "code",
        "colab": {}
      },
      "source": [
        "optimizer = tf.keras.optimizers.SGD(lr=1e-4, momentum=0.9)\n",
        "model.compile(loss=\"sparse_categorical_crossentropy\", optimizer=optimizer, metrics=[\"accuracy\"])"
      ],
      "execution_count": null,
      "outputs": []
    },
    {
      "cell_type": "code",
      "metadata": {
        "id": "e0rDv-5BBdjF",
        "colab_type": "code",
        "colab": {
          "base_uri": "https://localhost:8080/",
          "height": 1000
        },
        "outputId": "d64ef5f8-4b87-471d-df16-aced8060c760"
      },
      "source": [
        "history = model.fit(X_train, y_train, epochs=120, validation_data=(X_test, y_test), batch_size=128, callbacks=[lr_schedule])"
      ],
      "execution_count": null,
      "outputs": [
        {
          "output_type": "stream",
          "text": [
            "Epoch 1/120\n",
            "391/391 [==============================] - 11s 29ms/step - loss: 2.5704 - accuracy: 0.0994 - val_loss: 2.3343 - val_accuracy: 0.0847 - lr: 1.0000e-04\n",
            "Epoch 2/120\n",
            "391/391 [==============================] - 11s 28ms/step - loss: 2.5252 - accuracy: 0.1018 - val_loss: 2.3271 - val_accuracy: 0.0874 - lr: 1.1220e-04\n",
            "Epoch 3/120\n",
            "391/391 [==============================] - 11s 28ms/step - loss: 2.5061 - accuracy: 0.1023 - val_loss: 2.3215 - val_accuracy: 0.0899 - lr: 1.2589e-04\n",
            "Epoch 4/120\n",
            "391/391 [==============================] - 11s 28ms/step - loss: 2.4864 - accuracy: 0.1037 - val_loss: 2.3209 - val_accuracy: 0.0923 - lr: 1.4125e-04\n",
            "Epoch 5/120\n",
            "391/391 [==============================] - 11s 28ms/step - loss: 2.4713 - accuracy: 0.1026 - val_loss: 2.3199 - val_accuracy: 0.0977 - lr: 1.5849e-04\n",
            "Epoch 6/120\n",
            "391/391 [==============================] - 11s 28ms/step - loss: 2.4537 - accuracy: 0.1037 - val_loss: 2.3194 - val_accuracy: 0.1002 - lr: 1.7783e-04\n",
            "Epoch 7/120\n",
            "391/391 [==============================] - 11s 28ms/step - loss: 2.4390 - accuracy: 0.1049 - val_loss: 2.3208 - val_accuracy: 0.1003 - lr: 1.9953e-04\n",
            "Epoch 8/120\n",
            "391/391 [==============================] - 11s 28ms/step - loss: 2.4224 - accuracy: 0.1072 - val_loss: 2.3210 - val_accuracy: 0.0993 - lr: 2.2387e-04\n",
            "Epoch 9/120\n",
            "391/391 [==============================] - 11s 27ms/step - loss: 2.4004 - accuracy: 0.1083 - val_loss: 2.3226 - val_accuracy: 0.0994 - lr: 2.5119e-04\n",
            "Epoch 10/120\n",
            "391/391 [==============================] - 11s 28ms/step - loss: 2.3903 - accuracy: 0.1092 - val_loss: 2.3253 - val_accuracy: 0.0981 - lr: 2.8184e-04\n",
            "Epoch 11/120\n",
            "391/391 [==============================] - 11s 28ms/step - loss: 2.3671 - accuracy: 0.1126 - val_loss: 2.3278 - val_accuracy: 0.0998 - lr: 3.1623e-04\n",
            "Epoch 12/120\n",
            "391/391 [==============================] - 11s 28ms/step - loss: 2.3536 - accuracy: 0.1160 - val_loss: 2.3316 - val_accuracy: 0.1000 - lr: 3.5481e-04\n",
            "Epoch 13/120\n",
            "391/391 [==============================] - 11s 28ms/step - loss: 2.3338 - accuracy: 0.1182 - val_loss: 2.3357 - val_accuracy: 0.0996 - lr: 3.9811e-04\n",
            "Epoch 14/120\n",
            "391/391 [==============================] - 11s 28ms/step - loss: 2.3183 - accuracy: 0.1215 - val_loss: 2.3410 - val_accuracy: 0.1004 - lr: 4.4668e-04\n",
            "Epoch 15/120\n",
            "391/391 [==============================] - 11s 28ms/step - loss: 2.2992 - accuracy: 0.1265 - val_loss: 2.3487 - val_accuracy: 0.1000 - lr: 5.0119e-04\n",
            "Epoch 16/120\n",
            "391/391 [==============================] - 11s 27ms/step - loss: 2.2760 - accuracy: 0.1326 - val_loss: 2.3542 - val_accuracy: 0.1000 - lr: 5.6234e-04\n",
            "Epoch 17/120\n",
            "391/391 [==============================] - 11s 29ms/step - loss: 2.2586 - accuracy: 0.1344 - val_loss: 2.3630 - val_accuracy: 0.1001 - lr: 6.3096e-04\n",
            "Epoch 18/120\n",
            "391/391 [==============================] - 11s 28ms/step - loss: 2.2449 - accuracy: 0.1411 - val_loss: 2.3661 - val_accuracy: 0.1001 - lr: 7.0795e-04\n",
            "Epoch 19/120\n",
            "391/391 [==============================] - 11s 27ms/step - loss: 2.2353 - accuracy: 0.1420 - val_loss: 2.3724 - val_accuracy: 0.1000 - lr: 7.9433e-04\n",
            "Epoch 20/120\n",
            "391/391 [==============================] - 11s 28ms/step - loss: 2.2226 - accuracy: 0.1452 - val_loss: 2.3767 - val_accuracy: 0.1004 - lr: 8.9125e-04\n",
            "Epoch 21/120\n",
            "391/391 [==============================] - 11s 28ms/step - loss: 2.2139 - accuracy: 0.1475 - val_loss: 2.3862 - val_accuracy: 0.1002 - lr: 0.0010\n",
            "Epoch 22/120\n",
            "391/391 [==============================] - 11s 28ms/step - loss: 2.2024 - accuracy: 0.1495 - val_loss: 2.3906 - val_accuracy: 0.1000 - lr: 0.0011\n",
            "Epoch 23/120\n",
            "391/391 [==============================] - 11s 28ms/step - loss: 2.1961 - accuracy: 0.1487 - val_loss: 2.4005 - val_accuracy: 0.1012 - lr: 0.0013\n",
            "Epoch 24/120\n",
            "391/391 [==============================] - 11s 28ms/step - loss: 2.1885 - accuracy: 0.1498 - val_loss: 2.4092 - val_accuracy: 0.1000 - lr: 0.0014\n",
            "Epoch 25/120\n",
            "391/391 [==============================] - 11s 28ms/step - loss: 2.1756 - accuracy: 0.1562 - val_loss: 2.4271 - val_accuracy: 0.1005 - lr: 0.0016\n",
            "Epoch 26/120\n",
            "391/391 [==============================] - 11s 29ms/step - loss: 2.1674 - accuracy: 0.1578 - val_loss: 2.4398 - val_accuracy: 0.1000 - lr: 0.0018\n",
            "Epoch 27/120\n",
            "391/391 [==============================] - 11s 28ms/step - loss: 2.1598 - accuracy: 0.1598 - val_loss: 2.4598 - val_accuracy: 0.1002 - lr: 0.0020\n",
            "Epoch 28/120\n",
            "391/391 [==============================] - 11s 28ms/step - loss: 2.1508 - accuracy: 0.1619 - val_loss: 2.4724 - val_accuracy: 0.1000 - lr: 0.0022\n",
            "Epoch 29/120\n",
            "391/391 [==============================] - 11s 28ms/step - loss: 2.1405 - accuracy: 0.1643 - val_loss: 2.4983 - val_accuracy: 0.1000 - lr: 0.0025\n",
            "Epoch 30/120\n",
            "391/391 [==============================] - 11s 28ms/step - loss: 2.1316 - accuracy: 0.1683 - val_loss: 2.5414 - val_accuracy: 0.1000 - lr: 0.0028\n",
            "Epoch 31/120\n",
            "391/391 [==============================] - 11s 28ms/step - loss: 2.1232 - accuracy: 0.1684 - val_loss: 2.5774 - val_accuracy: 0.1001 - lr: 0.0032\n",
            "Epoch 32/120\n",
            "391/391 [==============================] - 11s 28ms/step - loss: 2.1134 - accuracy: 0.1686 - val_loss: 2.5865 - val_accuracy: 0.1000 - lr: 0.0035\n",
            "Epoch 33/120\n",
            "391/391 [==============================] - 11s 28ms/step - loss: 2.1082 - accuracy: 0.1710 - val_loss: 2.6034 - val_accuracy: 0.1000 - lr: 0.0040\n",
            "Epoch 34/120\n",
            "391/391 [==============================] - 11s 28ms/step - loss: 2.0976 - accuracy: 0.1703 - val_loss: 2.6284 - val_accuracy: 0.1000 - lr: 0.0045\n",
            "Epoch 35/120\n",
            "391/391 [==============================] - 11s 27ms/step - loss: 2.0857 - accuracy: 0.1735 - val_loss: 2.6595 - val_accuracy: 0.1000 - lr: 0.0050\n",
            "Epoch 36/120\n",
            "391/391 [==============================] - 11s 27ms/step - loss: 2.0800 - accuracy: 0.1709 - val_loss: 2.6724 - val_accuracy: 0.1000 - lr: 0.0056\n",
            "Epoch 37/120\n",
            "391/391 [==============================] - 11s 27ms/step - loss: 2.0737 - accuracy: 0.1736 - val_loss: 2.6654 - val_accuracy: 0.1000 - lr: 0.0063\n",
            "Epoch 38/120\n",
            "391/391 [==============================] - 11s 27ms/step - loss: 2.0700 - accuracy: 0.1727 - val_loss: 2.6711 - val_accuracy: 0.1000 - lr: 0.0071\n",
            "Epoch 39/120\n",
            "391/391 [==============================] - 11s 27ms/step - loss: 2.0652 - accuracy: 0.1745 - val_loss: 2.6543 - val_accuracy: 0.1000 - lr: 0.0079\n",
            "Epoch 40/120\n",
            "391/391 [==============================] - 11s 27ms/step - loss: 2.0583 - accuracy: 0.1773 - val_loss: 2.6925 - val_accuracy: 0.1000 - lr: 0.0089\n",
            "Epoch 41/120\n",
            "391/391 [==============================] - 11s 27ms/step - loss: 2.0528 - accuracy: 0.1770 - val_loss: 2.7041 - val_accuracy: 0.1000 - lr: 0.0100\n",
            "Epoch 42/120\n",
            "391/391 [==============================] - 10s 27ms/step - loss: 2.0546 - accuracy: 0.1756 - val_loss: 2.7068 - val_accuracy: 0.1007 - lr: 0.0112\n",
            "Epoch 43/120\n",
            "391/391 [==============================] - 11s 27ms/step - loss: 2.0456 - accuracy: 0.1758 - val_loss: 2.6669 - val_accuracy: 0.1005 - lr: 0.0126\n",
            "Epoch 44/120\n",
            "391/391 [==============================] - 10s 27ms/step - loss: 2.0422 - accuracy: 0.1758 - val_loss: 2.6209 - val_accuracy: 0.0996 - lr: 0.0141\n",
            "Epoch 45/120\n",
            "391/391 [==============================] - 11s 28ms/step - loss: 2.0342 - accuracy: 0.1775 - val_loss: 2.6307 - val_accuracy: 0.1011 - lr: 0.0158\n",
            "Epoch 46/120\n",
            "391/391 [==============================] - 11s 27ms/step - loss: 2.0332 - accuracy: 0.1776 - val_loss: 2.5240 - val_accuracy: 0.1005 - lr: 0.0178\n",
            "Epoch 47/120\n",
            "391/391 [==============================] - 11s 27ms/step - loss: 2.0288 - accuracy: 0.1775 - val_loss: 2.5088 - val_accuracy: 0.0999 - lr: 0.0200\n",
            "Epoch 48/120\n",
            "391/391 [==============================] - 11s 27ms/step - loss: 2.0266 - accuracy: 0.1784 - val_loss: 2.5838 - val_accuracy: 0.1004 - lr: 0.0224\n",
            "Epoch 49/120\n",
            "391/391 [==============================] - 11s 27ms/step - loss: 2.0171 - accuracy: 0.1806 - val_loss: 2.4471 - val_accuracy: 0.1032 - lr: 0.0251\n",
            "Epoch 50/120\n",
            "391/391 [==============================] - 11s 28ms/step - loss: 2.0168 - accuracy: 0.1838 - val_loss: 2.4629 - val_accuracy: 0.1090 - lr: 0.0282\n",
            "Epoch 51/120\n",
            "391/391 [==============================] - 11s 28ms/step - loss: 2.0088 - accuracy: 0.1910 - val_loss: 2.3853 - val_accuracy: 0.1120 - lr: 0.0316\n",
            "Epoch 52/120\n",
            "391/391 [==============================] - 11s 28ms/step - loss: 1.9989 - accuracy: 0.2054 - val_loss: 2.3122 - val_accuracy: 0.1082 - lr: 0.0355\n",
            "Epoch 53/120\n",
            "391/391 [==============================] - 11s 28ms/step - loss: 1.9881 - accuracy: 0.2093 - val_loss: 2.3479 - val_accuracy: 0.1155 - lr: 0.0398\n",
            "Epoch 54/120\n",
            "391/391 [==============================] - 11s 29ms/step - loss: 1.9797 - accuracy: 0.2157 - val_loss: 2.2529 - val_accuracy: 0.1136 - lr: 0.0447\n",
            "Epoch 55/120\n",
            "391/391 [==============================] - 12s 29ms/step - loss: 1.9755 - accuracy: 0.2173 - val_loss: 2.2145 - val_accuracy: 0.1291 - lr: 0.0501\n",
            "Epoch 56/120\n",
            "391/391 [==============================] - 11s 28ms/step - loss: 1.9573 - accuracy: 0.2230 - val_loss: 2.2616 - val_accuracy: 0.1257 - lr: 0.0562\n",
            "Epoch 57/120\n",
            "391/391 [==============================] - 11s 28ms/step - loss: 1.9512 - accuracy: 0.2270 - val_loss: 2.1635 - val_accuracy: 0.1499 - lr: 0.0631\n",
            "Epoch 58/120\n",
            "391/391 [==============================] - 11s 28ms/step - loss: 1.9447 - accuracy: 0.2311 - val_loss: 2.0306 - val_accuracy: 0.2147 - lr: 0.0708\n",
            "Epoch 59/120\n",
            "391/391 [==============================] - 11s 28ms/step - loss: 1.9386 - accuracy: 0.2329 - val_loss: 1.9676 - val_accuracy: 0.2317 - lr: 0.0794\n",
            "Epoch 60/120\n",
            "391/391 [==============================] - 11s 28ms/step - loss: 1.9298 - accuracy: 0.2350 - val_loss: 1.8976 - val_accuracy: 0.2472 - lr: 0.0891\n",
            "Epoch 61/120\n",
            "391/391 [==============================] - 11s 28ms/step - loss: 1.9135 - accuracy: 0.2385 - val_loss: 1.9427 - val_accuracy: 0.2361 - lr: 0.1000\n",
            "Epoch 62/120\n",
            "391/391 [==============================] - 11s 28ms/step - loss: 1.9080 - accuracy: 0.2446 - val_loss: 1.9142 - val_accuracy: 0.2505 - lr: 0.1122\n",
            "Epoch 63/120\n",
            "391/391 [==============================] - 11s 28ms/step - loss: 1.9019 - accuracy: 0.2429 - val_loss: 1.9660 - val_accuracy: 0.2498 - lr: 0.1259\n",
            "Epoch 64/120\n",
            "391/391 [==============================] - 11s 28ms/step - loss: 1.8948 - accuracy: 0.2535 - val_loss: 1.8484 - val_accuracy: 0.2680 - lr: 0.1413\n",
            "Epoch 65/120\n",
            "391/391 [==============================] - 11s 28ms/step - loss: 1.8850 - accuracy: 0.2592 - val_loss: 1.8071 - val_accuracy: 0.2843 - lr: 0.1585\n",
            "Epoch 66/120\n",
            "391/391 [==============================] - 11s 28ms/step - loss: 1.8792 - accuracy: 0.2661 - val_loss: 1.8292 - val_accuracy: 0.2938 - lr: 0.1778\n",
            "Epoch 67/120\n",
            "391/391 [==============================] - 11s 28ms/step - loss: 1.8713 - accuracy: 0.2766 - val_loss: 1.7951 - val_accuracy: 0.3117 - lr: 0.1995\n",
            "Epoch 68/120\n",
            "391/391 [==============================] - 11s 28ms/step - loss: 1.8688 - accuracy: 0.2758 - val_loss: 1.7689 - val_accuracy: 0.3121 - lr: 0.2239\n",
            "Epoch 69/120\n",
            "391/391 [==============================] - 11s 28ms/step - loss: 1.8575 - accuracy: 0.2848 - val_loss: 1.8180 - val_accuracy: 0.3049 - lr: 0.2512\n",
            "Epoch 70/120\n",
            "391/391 [==============================] - 11s 28ms/step - loss: 1.8619 - accuracy: 0.2908 - val_loss: 1.8021 - val_accuracy: 0.3285 - lr: 0.2818\n",
            "Epoch 71/120\n",
            "391/391 [==============================] - 11s 28ms/step - loss: 1.8709 - accuracy: 0.2880 - val_loss: 1.7587 - val_accuracy: 0.3220 - lr: 0.3162\n",
            "Epoch 72/120\n",
            "391/391 [==============================] - 11s 28ms/step - loss: 1.8621 - accuracy: 0.2898 - val_loss: 1.7951 - val_accuracy: 0.3168 - lr: 0.3548\n",
            "Epoch 73/120\n",
            "391/391 [==============================] - 11s 29ms/step - loss: 1.8726 - accuracy: 0.2864 - val_loss: 1.7645 - val_accuracy: 0.3243 - lr: 0.3981\n",
            "Epoch 74/120\n",
            "391/391 [==============================] - 11s 28ms/step - loss: 1.8650 - accuracy: 0.2871 - val_loss: 1.7775 - val_accuracy: 0.3183 - lr: 0.4467\n",
            "Epoch 75/120\n",
            "391/391 [==============================] - 11s 28ms/step - loss: 1.8827 - accuracy: 0.2838 - val_loss: 1.8646 - val_accuracy: 0.3108 - lr: 0.5012\n",
            "Epoch 76/120\n",
            "391/391 [==============================] - 11s 28ms/step - loss: 1.9201 - accuracy: 0.2731 - val_loss: 1.8183 - val_accuracy: 0.3057 - lr: 0.5623\n",
            "Epoch 77/120\n",
            "391/391 [==============================] - 11s 28ms/step - loss: 1.9229 - accuracy: 0.2679 - val_loss: 1.8092 - val_accuracy: 0.2839 - lr: 0.6310\n",
            "Epoch 78/120\n",
            "391/391 [==============================] - 11s 28ms/step - loss: 1.9317 - accuracy: 0.2678 - val_loss: 1.8717 - val_accuracy: 0.2772 - lr: 0.7079\n",
            "Epoch 79/120\n",
            "391/391 [==============================] - 11s 29ms/step - loss: 1.9409 - accuracy: 0.2686 - val_loss: 1.8313 - val_accuracy: 0.3137 - lr: 0.7943\n",
            "Epoch 80/120\n",
            "391/391 [==============================] - 11s 28ms/step - loss: 1.9491 - accuracy: 0.2617 - val_loss: 1.8908 - val_accuracy: 0.2907 - lr: 0.8913\n",
            "Epoch 81/120\n",
            "391/391 [==============================] - 11s 28ms/step - loss: 1.9560 - accuracy: 0.2647 - val_loss: 1.8927 - val_accuracy: 0.2903 - lr: 1.0000\n",
            "Epoch 82/120\n",
            "391/391 [==============================] - 11s 29ms/step - loss: 2.0095 - accuracy: 0.2381 - val_loss: 1.9340 - val_accuracy: 0.2616 - lr: 1.1220\n",
            "Epoch 83/120\n",
            "391/391 [==============================] - 12s 30ms/step - loss: 2.0139 - accuracy: 0.2424 - val_loss: 1.9842 - val_accuracy: 0.2669 - lr: 1.2589\n",
            "Epoch 84/120\n",
            "391/391 [==============================] - 11s 28ms/step - loss: 2.0577 - accuracy: 0.2254 - val_loss: 1.9243 - val_accuracy: 0.2824 - lr: 1.4125\n",
            "Epoch 85/120\n",
            "391/391 [==============================] - 11s 29ms/step - loss: 2.1411 - accuracy: 0.1916 - val_loss: 3.2110 - val_accuracy: 0.1666 - lr: 1.5849\n",
            "Epoch 86/120\n",
            "391/391 [==============================] - 11s 29ms/step - loss: 2.2257 - accuracy: 0.1632 - val_loss: 2.3662 - val_accuracy: 0.1417 - lr: 1.7783\n",
            "Epoch 87/120\n",
            "391/391 [==============================] - 11s 29ms/step - loss: 2.3400 - accuracy: 0.1003 - val_loss: 2.3345 - val_accuracy: 0.1000 - lr: 1.9953\n",
            "Epoch 88/120\n",
            "391/391 [==============================] - 11s 29ms/step - loss: 2.3423 - accuracy: 0.0959 - val_loss: 2.3459 - val_accuracy: 0.1000 - lr: 2.2387\n",
            "Epoch 89/120\n",
            "391/391 [==============================] - 11s 29ms/step - loss: 2.3460 - accuracy: 0.1002 - val_loss: 2.3203 - val_accuracy: 0.1000 - lr: 2.5119\n",
            "Epoch 90/120\n",
            "391/391 [==============================] - 11s 28ms/step - loss: 2.3556 - accuracy: 0.1008 - val_loss: 2.3534 - val_accuracy: 0.1000 - lr: 2.8184\n",
            "Epoch 91/120\n",
            "391/391 [==============================] - 11s 28ms/step - loss: 2.3670 - accuracy: 0.0983 - val_loss: 2.3403 - val_accuracy: 0.1000 - lr: 3.1623\n",
            "Epoch 92/120\n",
            "391/391 [==============================] - 11s 28ms/step - loss: 2.3629 - accuracy: 0.1008 - val_loss: 2.4006 - val_accuracy: 0.1000 - lr: 3.5481\n",
            "Epoch 93/120\n",
            "391/391 [==============================] - 11s 28ms/step - loss: 2.3911 - accuracy: 0.0992 - val_loss: 2.4508 - val_accuracy: 0.1000 - lr: 3.9811\n",
            "Epoch 94/120\n",
            "391/391 [==============================] - 11s 28ms/step - loss: 2.3897 - accuracy: 0.0995 - val_loss: 2.4362 - val_accuracy: 0.1000 - lr: 4.4668\n",
            "Epoch 95/120\n",
            "391/391 [==============================] - 11s 29ms/step - loss: 2.3953 - accuracy: 0.1013 - val_loss: 2.4472 - val_accuracy: 0.1000 - lr: 5.0119\n",
            "Epoch 96/120\n",
            "391/391 [==============================] - 11s 28ms/step - loss: 2.4185 - accuracy: 0.0999 - val_loss: 2.3882 - val_accuracy: 0.1000 - lr: 5.6234\n",
            "Epoch 97/120\n",
            "391/391 [==============================] - 11s 28ms/step - loss: 2.4401 - accuracy: 0.0993 - val_loss: 2.4515 - val_accuracy: 0.1000 - lr: 6.3096\n",
            "Epoch 98/120\n",
            "391/391 [==============================] - 11s 28ms/step - loss: 2.4704 - accuracy: 0.1008 - val_loss: 2.5121 - val_accuracy: 0.1000 - lr: 7.0795\n",
            "Epoch 99/120\n",
            "391/391 [==============================] - 11s 28ms/step - loss: 2.4961 - accuracy: 0.0996 - val_loss: 2.6505 - val_accuracy: 0.1000 - lr: 7.9433\n",
            "Epoch 100/120\n",
            "391/391 [==============================] - 11s 29ms/step - loss: 2.5460 - accuracy: 0.0997 - val_loss: 2.7987 - val_accuracy: 0.1000 - lr: 8.9125\n",
            "Epoch 101/120\n",
            "391/391 [==============================] - 11s 29ms/step - loss: 2.6744 - accuracy: 0.1000 - val_loss: 2.5047 - val_accuracy: 0.1000 - lr: 10.0000\n",
            "Epoch 102/120\n",
            "391/391 [==============================] - 11s 28ms/step - loss: 3.1939 - accuracy: 0.1000 - val_loss: 3.0349 - val_accuracy: 0.1000 - lr: 11.2202\n",
            "Epoch 103/120\n",
            "391/391 [==============================] - 11s 28ms/step - loss: 9.7764 - accuracy: 0.0994 - val_loss: 10.3833 - val_accuracy: 0.1000 - lr: 12.5893\n",
            "Epoch 104/120\n",
            "391/391 [==============================] - 11s 29ms/step - loss: 13.4493 - accuracy: 0.0994 - val_loss: 19.6098 - val_accuracy: 0.1000 - lr: 14.1254\n",
            "Epoch 105/120\n",
            "391/391 [==============================] - 11s 29ms/step - loss: 17.1292 - accuracy: 0.0987 - val_loss: 16.9394 - val_accuracy: 0.1000 - lr: 15.8489\n",
            "Epoch 106/120\n",
            "391/391 [==============================] - 11s 29ms/step - loss: 20.0796 - accuracy: 0.0978 - val_loss: 21.8493 - val_accuracy: 0.1000 - lr: 17.7828\n",
            "Epoch 107/120\n",
            "391/391 [==============================] - 11s 29ms/step - loss: 27.0009 - accuracy: 0.0999 - val_loss: 29.1077 - val_accuracy: 0.1000 - lr: 19.9526\n",
            "Epoch 108/120\n",
            "391/391 [==============================] - 11s 28ms/step - loss: 30.1055 - accuracy: 0.1013 - val_loss: 34.0545 - val_accuracy: 0.1000 - lr: 22.3872\n",
            "Epoch 109/120\n",
            "391/391 [==============================] - 11s 28ms/step - loss: 36.3119 - accuracy: 0.1005 - val_loss: 47.4861 - val_accuracy: 0.1000 - lr: 25.1189\n",
            "Epoch 110/120\n",
            "391/391 [==============================] - 12s 29ms/step - loss: 41.2294 - accuracy: 0.1005 - val_loss: 54.3363 - val_accuracy: 0.1000 - lr: 28.1838\n",
            "Epoch 111/120\n",
            "391/391 [==============================] - 11s 29ms/step - loss: 45.1874 - accuracy: 0.1000 - val_loss: 77.9159 - val_accuracy: 0.1000 - lr: 31.6228\n",
            "Epoch 112/120\n",
            "391/391 [==============================] - 11s 28ms/step - loss: 57.1396 - accuracy: 0.1021 - val_loss: 56.8198 - val_accuracy: 0.1000 - lr: 35.4813\n",
            "Epoch 113/120\n",
            "391/391 [==============================] - 11s 28ms/step - loss: 62.3595 - accuracy: 0.0986 - val_loss: 45.4215 - val_accuracy: 0.1000 - lr: 39.8107\n",
            "Epoch 114/120\n",
            "391/391 [==============================] - 11s 28ms/step - loss: 72.5303 - accuracy: 0.1000 - val_loss: 72.6290 - val_accuracy: 0.1000 - lr: 44.6684\n",
            "Epoch 115/120\n",
            "391/391 [==============================] - 11s 28ms/step - loss: 84.9962 - accuracy: 0.1009 - val_loss: 53.2058 - val_accuracy: 0.1000 - lr: 50.1187\n",
            "Epoch 116/120\n",
            "391/391 [==============================] - 11s 28ms/step - loss: 83.6762 - accuracy: 0.0995 - val_loss: 102.4953 - val_accuracy: 0.1000 - lr: 56.2341\n",
            "Epoch 117/120\n",
            "391/391 [==============================] - 11s 29ms/step - loss: 104.2121 - accuracy: 0.1004 - val_loss: 120.4604 - val_accuracy: 0.1000 - lr: 63.0957\n",
            "Epoch 118/120\n",
            "391/391 [==============================] - 11s 28ms/step - loss: 126.9849 - accuracy: 0.0994 - val_loss: 111.6793 - val_accuracy: 0.1000 - lr: 70.7946\n",
            "Epoch 119/120\n",
            "391/391 [==============================] - 11s 29ms/step - loss: 125.9065 - accuracy: 0.1000 - val_loss: 156.7172 - val_accuracy: 0.1000 - lr: 79.4328\n",
            "Epoch 120/120\n",
            "391/391 [==============================] - 11s 29ms/step - loss: 164.7321 - accuracy: 0.0989 - val_loss: 249.7703 - val_accuracy: 0.1000 - lr: 89.1251\n"
          ],
          "name": "stdout"
        }
      ]
    },
    {
      "cell_type": "markdown",
      "metadata": {
        "id": "5GLkbbHic3Fr",
        "colab_type": "text"
      },
      "source": [
        "This takes about 22 minutes. Now plot learning rate vs loss."
      ]
    },
    {
      "cell_type": "code",
      "metadata": {
        "id": "GzKOmTePgxfW",
        "colab_type": "code",
        "colab": {
          "base_uri": "https://localhost:8080/",
          "height": 304
        },
        "outputId": "69899ea1-e164-4b91-b991-95b325d73424"
      },
      "source": [
        "import matplotlib.pyplot as plt\n",
        "plt.semilogx(history.history[\"lr\"], history.history[\"loss\"])\n",
        "plt.semilogx(history.history[\"lr\"], history.history[\"val_loss\"])\n",
        "plt.xlabel(\"Learning rate\")\n",
        "plt.ylabel(\"Loss\")\n",
        "plt.axis([1e-4, 10, 0, 3])"
      ],
      "execution_count": null,
      "outputs": [
        {
          "output_type": "execute_result",
          "data": {
            "text/plain": [
              "(0.0001, 10.0, 0.0, 3.0)"
            ]
          },
          "metadata": {
            "tags": []
          },
          "execution_count": 27
        },
        {
          "output_type": "display_data",
          "data": {
            "image/png": "[encoded data removed]",
            "text/plain": [
              "<Figure size 432x288 with 1 Axes>"
            ]
          },
          "metadata": {
            "tags": [],
            "needs_background": "light"
          }
        }
      ]
    },
    {
      "cell_type": "markdown",
      "metadata": {
        "id": "KzdpvM-Gx4FW",
        "colab_type": "text"
      },
      "source": [
        "### Fitting with the optimal lr"
      ]
    },
    {
      "cell_type": "code",
      "metadata": {
        "id": "rgn4sUrlg8HM",
        "colab_type": "code",
        "colab": {}
      },
      "source": [
        "optimizer = tf.keras.optimizers.SGD(lr=0.07, momentum=0.9)\n",
        "model.compile(loss=\"sparse_categorical_crossentropy\", optimizer=optimizer, metrics=[\"accuracy\"])"
      ],
      "execution_count": null,
      "outputs": []
    },
    {
      "cell_type": "code",
      "metadata": {
        "id": "YIRalN-EhZCD",
        "colab_type": "code",
        "colab": {
          "base_uri": "https://localhost:8080/",
          "height": 1000
        },
        "outputId": "fa7bc7ca-d5d7-4d49-8284-06898f19dee9"
      },
      "source": [
        "history = model.fit(X_train, y_train, epochs=250, validation_data=(X_test, y_test), batch_size=128)"
      ],
      "execution_count": null,
      "outputs": [
        {
          "output_type": "stream",
          "text": [
            "Epoch 1/250\n",
            "391/391 [==============================] - 11s 27ms/step - loss: 1.4361 - accuracy: 0.4980 - val_loss: 1.4319 - val_accuracy: 0.5040\n",
            "Epoch 2/250\n",
            "391/391 [==============================] - 11s 27ms/step - loss: 1.4221 - accuracy: 0.5054 - val_loss: 1.4282 - val_accuracy: 0.5040\n",
            "Epoch 3/250\n",
            "391/391 [==============================] - 11s 27ms/step - loss: 1.4169 - accuracy: 0.5021 - val_loss: 1.4207 - val_accuracy: 0.5144\n",
            "Epoch 4/250\n",
            "391/391 [==============================] - 11s 27ms/step - loss: 1.4187 - accuracy: 0.5064 - val_loss: 1.4373 - val_accuracy: 0.5037\n",
            "Epoch 5/250\n",
            "391/391 [==============================] - 11s 28ms/step - loss: 1.4204 - accuracy: 0.5013 - val_loss: 1.4203 - val_accuracy: 0.5049\n",
            "Epoch 6/250\n",
            "391/391 [==============================] - 11s 27ms/step - loss: 1.4208 - accuracy: 0.5028 - val_loss: 1.4342 - val_accuracy: 0.5049\n",
            "Epoch 7/250\n",
            "391/391 [==============================] - 11s 27ms/step - loss: 1.4143 - accuracy: 0.5041 - val_loss: 1.4256 - val_accuracy: 0.5087\n",
            "Epoch 8/250\n",
            "391/391 [==============================] - 11s 28ms/step - loss: 1.4224 - accuracy: 0.5027 - val_loss: 1.4273 - val_accuracy: 0.5065\n",
            "Epoch 9/250\n",
            "391/391 [==============================] - 11s 28ms/step - loss: 1.4205 - accuracy: 0.5041 - val_loss: 1.4229 - val_accuracy: 0.5042\n",
            "Epoch 10/250\n",
            "391/391 [==============================] - 11s 27ms/step - loss: 1.4213 - accuracy: 0.5041 - val_loss: 1.4228 - val_accuracy: 0.5079\n",
            "Epoch 11/250\n",
            "391/391 [==============================] - 11s 27ms/step - loss: 1.4101 - accuracy: 0.5069 - val_loss: 1.4292 - val_accuracy: 0.5145\n",
            "Epoch 12/250\n",
            "391/391 [==============================] - 11s 27ms/step - loss: 1.4140 - accuracy: 0.5055 - val_loss: 1.4287 - val_accuracy: 0.5102\n",
            "Epoch 13/250\n",
            "391/391 [==============================] - 11s 27ms/step - loss: 1.4240 - accuracy: 0.5002 - val_loss: 1.4164 - val_accuracy: 0.5094\n",
            "Epoch 14/250\n",
            "391/391 [==============================] - 11s 27ms/step - loss: 1.4154 - accuracy: 0.5061 - val_loss: 1.4127 - val_accuracy: 0.5100\n",
            "Epoch 15/250\n",
            "391/391 [==============================] - 11s 27ms/step - loss: 1.4283 - accuracy: 0.4998 - val_loss: 1.4441 - val_accuracy: 0.5027\n",
            "Epoch 16/250\n",
            "391/391 [==============================] - 11s 27ms/step - loss: 1.4203 - accuracy: 0.5023 - val_loss: 1.4383 - val_accuracy: 0.5020\n",
            "Epoch 17/250\n",
            "391/391 [==============================] - 11s 28ms/step - loss: 1.4221 - accuracy: 0.5034 - val_loss: 1.4226 - val_accuracy: 0.5066\n",
            "Epoch 18/250\n",
            "391/391 [==============================] - 11s 28ms/step - loss: 1.4214 - accuracy: 0.5043 - val_loss: 1.4117 - val_accuracy: 0.5116\n",
            "Epoch 19/250\n",
            "391/391 [==============================] - 11s 27ms/step - loss: 1.4199 - accuracy: 0.5031 - val_loss: 1.4357 - val_accuracy: 0.5033\n",
            "Epoch 20/250\n",
            "391/391 [==============================] - 11s 27ms/step - loss: 1.4172 - accuracy: 0.5032 - val_loss: 1.4245 - val_accuracy: 0.5014\n",
            "Epoch 21/250\n",
            "391/391 [==============================] - 11s 27ms/step - loss: 1.4245 - accuracy: 0.5012 - val_loss: 1.4319 - val_accuracy: 0.5067\n",
            "Epoch 22/250\n",
            "391/391 [==============================] - 11s 27ms/step - loss: 1.4189 - accuracy: 0.4994 - val_loss: 1.4262 - val_accuracy: 0.5097\n",
            "Epoch 23/250\n",
            "391/391 [==============================] - 11s 27ms/step - loss: 1.4187 - accuracy: 0.5020 - val_loss: 1.4347 - val_accuracy: 0.5031\n",
            "Epoch 24/250\n",
            "391/391 [==============================] - 11s 27ms/step - loss: 1.4190 - accuracy: 0.5054 - val_loss: 1.4196 - val_accuracy: 0.5099\n",
            "Epoch 25/250\n",
            "391/391 [==============================] - 11s 27ms/step - loss: 1.4166 - accuracy: 0.5018 - val_loss: 1.4308 - val_accuracy: 0.4975\n",
            "Epoch 26/250\n",
            "391/391 [==============================] - 11s 27ms/step - loss: 1.4229 - accuracy: 0.5030 - val_loss: 1.4242 - val_accuracy: 0.5070\n",
            "Epoch 27/250\n",
            "391/391 [==============================] - 11s 27ms/step - loss: 1.4237 - accuracy: 0.5021 - val_loss: 1.4148 - val_accuracy: 0.5062\n",
            "Epoch 28/250\n",
            "391/391 [==============================] - 10s 27ms/step - loss: 1.4154 - accuracy: 0.5041 - val_loss: 1.4182 - val_accuracy: 0.5064\n",
            "Epoch 29/250\n",
            "391/391 [==============================] - 11s 27ms/step - loss: 1.4138 - accuracy: 0.5018 - val_loss: 1.4223 - val_accuracy: 0.5143\n",
            "Epoch 30/250\n",
            "391/391 [==============================] - 10s 27ms/step - loss: 1.4138 - accuracy: 0.5029 - val_loss: 1.4273 - val_accuracy: 0.5094\n",
            "Epoch 31/250\n",
            "391/391 [==============================] - 10s 27ms/step - loss: 1.4210 - accuracy: 0.5011 - val_loss: 1.4262 - val_accuracy: 0.5055\n",
            "Epoch 32/250\n",
            "391/391 [==============================] - 11s 27ms/step - loss: 1.4133 - accuracy: 0.5047 - val_loss: 1.4274 - val_accuracy: 0.4977\n",
            "Epoch 33/250\n",
            "391/391 [==============================] - 11s 27ms/step - loss: 1.4160 - accuracy: 0.5039 - val_loss: 1.4275 - val_accuracy: 0.5037\n",
            "Epoch 34/250\n",
            "391/391 [==============================] - 11s 27ms/step - loss: 1.4124 - accuracy: 0.5052 - val_loss: 1.4292 - val_accuracy: 0.4933\n",
            "Epoch 35/250\n",
            "391/391 [==============================] - 11s 27ms/step - loss: 1.4101 - accuracy: 0.5080 - val_loss: 1.4247 - val_accuracy: 0.5057\n",
            "Epoch 36/250\n",
            "391/391 [==============================] - 11s 27ms/step - loss: 1.4120 - accuracy: 0.5063 - val_loss: 1.4186 - val_accuracy: 0.5055\n",
            "Epoch 37/250\n",
            "391/391 [==============================] - 11s 28ms/step - loss: 1.4117 - accuracy: 0.5058 - val_loss: 1.4281 - val_accuracy: 0.5055\n",
            "Epoch 38/250\n",
            "391/391 [==============================] - 11s 29ms/step - loss: 1.4151 - accuracy: 0.5044 - val_loss: 1.4246 - val_accuracy: 0.5049\n",
            "Epoch 39/250\n",
            "391/391 [==============================] - 11s 27ms/step - loss: 1.4146 - accuracy: 0.5032 - val_loss: 1.4267 - val_accuracy: 0.5086\n",
            "Epoch 40/250\n",
            "391/391 [==============================] - 11s 27ms/step - loss: 1.4246 - accuracy: 0.5044 - val_loss: 1.4265 - val_accuracy: 0.5029\n",
            "Epoch 41/250\n",
            "391/391 [==============================] - 11s 27ms/step - loss: 1.4148 - accuracy: 0.5078 - val_loss: 1.4297 - val_accuracy: 0.5044\n",
            "Epoch 42/250\n",
            "391/391 [==============================] - 11s 27ms/step - loss: 1.4194 - accuracy: 0.5016 - val_loss: 1.4257 - val_accuracy: 0.5076\n",
            "Epoch 43/250\n",
            "391/391 [==============================] - 11s 27ms/step - loss: 1.4124 - accuracy: 0.5049 - val_loss: 1.4201 - val_accuracy: 0.5096\n",
            "Epoch 44/250\n",
            "391/391 [==============================] - 11s 27ms/step - loss: 1.4167 - accuracy: 0.5054 - val_loss: 1.4182 - val_accuracy: 0.5104\n",
            "Epoch 45/250\n",
            "391/391 [==============================] - 11s 27ms/step - loss: 1.4098 - accuracy: 0.5054 - val_loss: 1.4229 - val_accuracy: 0.5081\n",
            "Epoch 46/250\n",
            "391/391 [==============================] - 11s 28ms/step - loss: 1.4159 - accuracy: 0.5060 - val_loss: 1.4283 - val_accuracy: 0.5071\n",
            "Epoch 47/250\n",
            "391/391 [==============================] - 11s 27ms/step - loss: 1.4114 - accuracy: 0.5068 - val_loss: 1.4262 - val_accuracy: 0.5139\n",
            "Epoch 48/250\n",
            "391/391 [==============================] - 11s 27ms/step - loss: 1.4070 - accuracy: 0.5068 - val_loss: 1.4198 - val_accuracy: 0.5067\n",
            "Epoch 49/250\n",
            "391/391 [==============================] - 11s 27ms/step - loss: 1.4060 - accuracy: 0.5093 - val_loss: 1.4212 - val_accuracy: 0.5103\n",
            "Epoch 50/250\n",
            "391/391 [==============================] - 11s 27ms/step - loss: 1.4079 - accuracy: 0.5036 - val_loss: 1.4276 - val_accuracy: 0.4929\n",
            "Epoch 51/250\n",
            "391/391 [==============================] - 11s 28ms/step - loss: 1.4108 - accuracy: 0.5063 - val_loss: 1.4302 - val_accuracy: 0.5077\n",
            "Epoch 52/250\n",
            "391/391 [==============================] - 11s 27ms/step - loss: 1.4075 - accuracy: 0.5089 - val_loss: 1.4293 - val_accuracy: 0.5040\n",
            "Epoch 53/250\n",
            "391/391 [==============================] - 11s 27ms/step - loss: 1.4146 - accuracy: 0.5075 - val_loss: 1.4261 - val_accuracy: 0.5124\n",
            "Epoch 54/250\n",
            "391/391 [==============================] - 11s 27ms/step - loss: 1.4095 - accuracy: 0.5096 - val_loss: 1.4202 - val_accuracy: 0.5057\n",
            "Epoch 55/250\n",
            "391/391 [==============================] - 11s 27ms/step - loss: 1.4106 - accuracy: 0.5114 - val_loss: 1.4250 - val_accuracy: 0.5134\n",
            "Epoch 56/250\n",
            "391/391 [==============================] - 11s 28ms/step - loss: 1.4059 - accuracy: 0.5070 - val_loss: 1.4179 - val_accuracy: 0.5107\n",
            "Epoch 57/250\n",
            "391/391 [==============================] - 11s 27ms/step - loss: 1.4066 - accuracy: 0.5076 - val_loss: 1.4202 - val_accuracy: 0.5087\n",
            "Epoch 58/250\n",
            "391/391 [==============================] - 11s 27ms/step - loss: 1.4090 - accuracy: 0.5101 - val_loss: 1.4261 - val_accuracy: 0.5112\n",
            "Epoch 59/250\n",
            "391/391 [==============================] - 11s 27ms/step - loss: 1.4044 - accuracy: 0.5112 - val_loss: 1.4172 - val_accuracy: 0.5116\n",
            "Epoch 60/250\n",
            "391/391 [==============================] - 11s 27ms/step - loss: 1.4042 - accuracy: 0.5116 - val_loss: 1.4254 - val_accuracy: 0.5108\n",
            "Epoch 61/250\n",
            "391/391 [==============================] - 11s 27ms/step - loss: 1.4041 - accuracy: 0.5111 - val_loss: 1.4244 - val_accuracy: 0.5048\n",
            "Epoch 62/250\n",
            "391/391 [==============================] - 11s 27ms/step - loss: 1.4116 - accuracy: 0.5069 - val_loss: 1.4274 - val_accuracy: 0.5077\n",
            "Epoch 63/250\n",
            "391/391 [==============================] - 11s 27ms/step - loss: 1.4085 - accuracy: 0.5093 - val_loss: 1.4180 - val_accuracy: 0.5136\n",
            "Epoch 64/250\n",
            "391/391 [==============================] - 11s 27ms/step - loss: 1.4077 - accuracy: 0.5107 - val_loss: 1.4177 - val_accuracy: 0.5121\n",
            "Epoch 65/250\n",
            "391/391 [==============================] - 11s 27ms/step - loss: 1.4035 - accuracy: 0.5121 - val_loss: 1.4131 - val_accuracy: 0.5141\n",
            "Epoch 66/250\n",
            "391/391 [==============================] - 11s 28ms/step - loss: 1.4042 - accuracy: 0.5113 - val_loss: 1.4223 - val_accuracy: 0.5078\n",
            "Epoch 67/250\n",
            "391/391 [==============================] - 11s 29ms/step - loss: 1.4057 - accuracy: 0.5120 - val_loss: 1.4148 - val_accuracy: 0.5134\n",
            "Epoch 68/250\n",
            "391/391 [==============================] - 11s 28ms/step - loss: 1.4091 - accuracy: 0.5117 - val_loss: 1.4314 - val_accuracy: 0.5008\n",
            "Epoch 69/250\n",
            "391/391 [==============================] - 11s 27ms/step - loss: 1.4104 - accuracy: 0.5101 - val_loss: 1.4263 - val_accuracy: 0.5040\n",
            "Epoch 70/250\n",
            "391/391 [==============================] - 11s 27ms/step - loss: 1.4062 - accuracy: 0.5102 - val_loss: 1.4257 - val_accuracy: 0.5088\n",
            "Epoch 71/250\n",
            "391/391 [==============================] - 11s 27ms/step - loss: 1.4092 - accuracy: 0.5087 - val_loss: 1.4325 - val_accuracy: 0.5086\n",
            "Epoch 72/250\n",
            "391/391 [==============================] - 11s 27ms/step - loss: 1.4102 - accuracy: 0.5075 - val_loss: 1.4267 - val_accuracy: 0.5073\n",
            "Epoch 73/250\n",
            "391/391 [==============================] - 11s 27ms/step - loss: 1.4072 - accuracy: 0.5114 - val_loss: 1.4201 - val_accuracy: 0.5101\n",
            "Epoch 74/250\n",
            "391/391 [==============================] - 11s 28ms/step - loss: 1.4020 - accuracy: 0.5128 - val_loss: 1.4282 - val_accuracy: 0.5043\n",
            "Epoch 75/250\n",
            "391/391 [==============================] - 11s 27ms/step - loss: 1.4010 - accuracy: 0.5130 - val_loss: 1.4251 - val_accuracy: 0.5105\n",
            "Epoch 76/250\n",
            "391/391 [==============================] - 11s 27ms/step - loss: 1.4028 - accuracy: 0.5077 - val_loss: 1.4275 - val_accuracy: 0.5083\n",
            "Epoch 77/250\n",
            "391/391 [==============================] - 10s 27ms/step - loss: 1.4049 - accuracy: 0.5108 - val_loss: 1.4468 - val_accuracy: 0.4978\n",
            "Epoch 78/250\n",
            "391/391 [==============================] - 11s 27ms/step - loss: 1.4220 - accuracy: 0.5019 - val_loss: 1.4237 - val_accuracy: 0.5045\n",
            "Epoch 79/250\n",
            "391/391 [==============================] - 11s 27ms/step - loss: 1.4114 - accuracy: 0.5060 - val_loss: 1.4301 - val_accuracy: 0.5039\n",
            "Epoch 80/250\n",
            "391/391 [==============================] - 11s 27ms/step - loss: 1.4061 - accuracy: 0.5094 - val_loss: 1.4204 - val_accuracy: 0.5082\n",
            "Epoch 81/250\n",
            "391/391 [==============================] - 11s 27ms/step - loss: 1.4057 - accuracy: 0.5111 - val_loss: 1.4207 - val_accuracy: 0.5113\n",
            "Epoch 82/250\n",
            "391/391 [==============================] - 11s 27ms/step - loss: 1.4211 - accuracy: 0.5053 - val_loss: 1.4196 - val_accuracy: 0.5100\n",
            "Epoch 83/250\n",
            "391/391 [==============================] - 11s 27ms/step - loss: 1.4051 - accuracy: 0.5074 - val_loss: 1.4157 - val_accuracy: 0.5046\n",
            "Epoch 84/250\n",
            "391/391 [==============================] - 11s 27ms/step - loss: 1.4076 - accuracy: 0.5077 - val_loss: 1.4245 - val_accuracy: 0.5101\n",
            "Epoch 85/250\n",
            "391/391 [==============================] - 11s 28ms/step - loss: 1.4153 - accuracy: 0.5100 - val_loss: 1.6427 - val_accuracy: 0.4492\n",
            "Epoch 86/250\n",
            "391/391 [==============================] - 11s 27ms/step - loss: 1.4786 - accuracy: 0.4871 - val_loss: 1.4444 - val_accuracy: 0.5038\n",
            "Epoch 87/250\n",
            "391/391 [==============================] - 11s 27ms/step - loss: 1.4388 - accuracy: 0.5019 - val_loss: 1.4344 - val_accuracy: 0.5095\n",
            "Epoch 88/250\n",
            "391/391 [==============================] - 11s 27ms/step - loss: 1.4272 - accuracy: 0.5005 - val_loss: 1.4274 - val_accuracy: 0.5059\n",
            "Epoch 89/250\n",
            "391/391 [==============================] - 11s 27ms/step - loss: 1.4249 - accuracy: 0.5055 - val_loss: 1.4198 - val_accuracy: 0.5020\n",
            "Epoch 90/250\n",
            "391/391 [==============================] - 11s 27ms/step - loss: 1.4245 - accuracy: 0.5014 - val_loss: 1.4133 - val_accuracy: 0.5095\n",
            "Epoch 91/250\n",
            "391/391 [==============================] - 11s 27ms/step - loss: 1.4209 - accuracy: 0.5018 - val_loss: 1.4188 - val_accuracy: 0.5083\n",
            "Epoch 92/250\n",
            "391/391 [==============================] - 11s 27ms/step - loss: 1.4168 - accuracy: 0.5044 - val_loss: 1.4280 - val_accuracy: 0.5018\n",
            "Epoch 93/250\n",
            "391/391 [==============================] - 11s 27ms/step - loss: 1.4173 - accuracy: 0.5030 - val_loss: 1.4138 - val_accuracy: 0.5115\n",
            "Epoch 94/250\n",
            "391/391 [==============================] - 11s 27ms/step - loss: 1.4203 - accuracy: 0.5026 - val_loss: 1.4171 - val_accuracy: 0.5034\n",
            "Epoch 95/250\n",
            "391/391 [==============================] - 11s 28ms/step - loss: 1.4103 - accuracy: 0.5101 - val_loss: 1.4102 - val_accuracy: 0.5058\n",
            "Epoch 96/250\n",
            "391/391 [==============================] - 11s 28ms/step - loss: 1.4107 - accuracy: 0.5090 - val_loss: 1.4243 - val_accuracy: 0.5102\n",
            "Epoch 97/250\n",
            "391/391 [==============================] - 11s 27ms/step - loss: 1.4135 - accuracy: 0.5053 - val_loss: 1.4191 - val_accuracy: 0.5095\n",
            "Epoch 98/250\n",
            "391/391 [==============================] - 11s 27ms/step - loss: 1.4109 - accuracy: 0.5086 - val_loss: 1.4168 - val_accuracy: 0.5064\n",
            "Epoch 99/250\n",
            "391/391 [==============================] - 11s 28ms/step - loss: 1.4134 - accuracy: 0.5031 - val_loss: 1.4212 - val_accuracy: 0.5114\n",
            "Epoch 100/250\n",
            "391/391 [==============================] - 11s 28ms/step - loss: 1.4120 - accuracy: 0.5066 - val_loss: 1.4114 - val_accuracy: 0.5098\n",
            "Epoch 101/250\n",
            "391/391 [==============================] - 11s 27ms/step - loss: 1.4069 - accuracy: 0.5059 - val_loss: 1.4247 - val_accuracy: 0.5004\n",
            "Epoch 102/250\n",
            "391/391 [==============================] - 11s 27ms/step - loss: 1.4048 - accuracy: 0.5087 - val_loss: 1.4160 - val_accuracy: 0.5079\n",
            "Epoch 103/250\n",
            "391/391 [==============================] - 11s 28ms/step - loss: 1.4115 - accuracy: 0.5084 - val_loss: 1.4265 - val_accuracy: 0.5112\n",
            "Epoch 104/250\n",
            "391/391 [==============================] - 11s 27ms/step - loss: 1.4083 - accuracy: 0.5060 - val_loss: 1.4149 - val_accuracy: 0.5060\n",
            "Epoch 105/250\n",
            "391/391 [==============================] - 11s 27ms/step - loss: 1.4038 - accuracy: 0.5076 - val_loss: 1.4141 - val_accuracy: 0.5130\n",
            "Epoch 106/250\n",
            "391/391 [==============================] - 11s 28ms/step - loss: 1.4042 - accuracy: 0.5080 - val_loss: 1.4158 - val_accuracy: 0.5086\n",
            "Epoch 107/250\n",
            "391/391 [==============================] - 11s 27ms/step - loss: 1.4051 - accuracy: 0.5091 - val_loss: 1.4181 - val_accuracy: 0.5069\n",
            "Epoch 108/250\n",
            "391/391 [==============================] - 11s 27ms/step - loss: 1.4081 - accuracy: 0.5075 - val_loss: 1.4149 - val_accuracy: 0.5143\n",
            "Epoch 109/250\n",
            "391/391 [==============================] - 11s 27ms/step - loss: 1.4097 - accuracy: 0.5059 - val_loss: 1.4100 - val_accuracy: 0.5086\n",
            "Epoch 110/250\n",
            "391/391 [==============================] - 11s 27ms/step - loss: 1.4054 - accuracy: 0.5044 - val_loss: 1.4271 - val_accuracy: 0.5041\n",
            "Epoch 111/250\n",
            "391/391 [==============================] - 11s 27ms/step - loss: 1.4056 - accuracy: 0.5086 - val_loss: 1.4177 - val_accuracy: 0.5048\n",
            "Epoch 112/250\n",
            "391/391 [==============================] - 11s 27ms/step - loss: 1.4061 - accuracy: 0.5077 - val_loss: 1.4131 - val_accuracy: 0.5051\n",
            "Epoch 113/250\n",
            "391/391 [==============================] - 11s 28ms/step - loss: 1.4020 - accuracy: 0.5083 - val_loss: 1.4126 - val_accuracy: 0.5086\n",
            "Epoch 114/250\n",
            "391/391 [==============================] - 11s 28ms/step - loss: 1.4072 - accuracy: 0.5097 - val_loss: 1.4188 - val_accuracy: 0.5111\n",
            "Epoch 115/250\n",
            "391/391 [==============================] - 11s 28ms/step - loss: 1.4055 - accuracy: 0.5108 - val_loss: 1.4081 - val_accuracy: 0.5088\n",
            "Epoch 116/250\n",
            "391/391 [==============================] - 11s 28ms/step - loss: 1.4001 - accuracy: 0.5100 - val_loss: 1.4128 - val_accuracy: 0.5103\n",
            "Epoch 117/250\n",
            "391/391 [==============================] - 11s 28ms/step - loss: 1.4020 - accuracy: 0.5100 - val_loss: 1.4162 - val_accuracy: 0.5089\n",
            "Epoch 118/250\n",
            "391/391 [==============================] - 11s 28ms/step - loss: 1.4028 - accuracy: 0.5116 - val_loss: 1.4232 - val_accuracy: 0.5081\n",
            "Epoch 119/250\n",
            "391/391 [==============================] - 11s 28ms/step - loss: 1.4056 - accuracy: 0.5124 - val_loss: 1.4152 - val_accuracy: 0.5111\n",
            "Epoch 120/250\n",
            "391/391 [==============================] - 11s 28ms/step - loss: 1.4069 - accuracy: 0.5073 - val_loss: 1.4177 - val_accuracy: 0.5055\n",
            "Epoch 121/250\n",
            "391/391 [==============================] - 11s 28ms/step - loss: 1.4007 - accuracy: 0.5098 - val_loss: 1.4170 - val_accuracy: 0.5093\n",
            "Epoch 122/250\n",
            "391/391 [==============================] - 11s 28ms/step - loss: 1.3975 - accuracy: 0.5109 - val_loss: 1.4241 - val_accuracy: 0.5087\n",
            "Epoch 123/250\n",
            "391/391 [==============================] - 11s 28ms/step - loss: 1.3975 - accuracy: 0.5086 - val_loss: 1.4239 - val_accuracy: 0.5115\n",
            "Epoch 124/250\n",
            "391/391 [==============================] - 12s 30ms/step - loss: 1.3914 - accuracy: 0.5134 - val_loss: 1.4134 - val_accuracy: 0.5046\n",
            "Epoch 125/250\n",
            "391/391 [==============================] - 11s 28ms/step - loss: 1.3936 - accuracy: 0.5136 - val_loss: 1.4242 - val_accuracy: 0.5008\n",
            "Epoch 126/250\n",
            "391/391 [==============================] - 11s 28ms/step - loss: 1.3948 - accuracy: 0.5124 - val_loss: 1.4144 - val_accuracy: 0.5139\n",
            "Epoch 127/250\n",
            "391/391 [==============================] - 11s 27ms/step - loss: 1.4044 - accuracy: 0.5108 - val_loss: 1.4190 - val_accuracy: 0.5110\n",
            "Epoch 128/250\n",
            "391/391 [==============================] - 11s 28ms/step - loss: 1.4088 - accuracy: 0.5060 - val_loss: 1.4109 - val_accuracy: 0.5145\n",
            "Epoch 129/250\n",
            "391/391 [==============================] - 11s 28ms/step - loss: 1.4040 - accuracy: 0.5125 - val_loss: 1.4199 - val_accuracy: 0.5083\n",
            "Epoch 130/250\n",
            "391/391 [==============================] - 11s 28ms/step - loss: 1.4022 - accuracy: 0.5084 - val_loss: 1.4116 - val_accuracy: 0.5070\n",
            "Epoch 131/250\n",
            "391/391 [==============================] - 11s 28ms/step - loss: 1.3995 - accuracy: 0.5105 - val_loss: 1.4157 - val_accuracy: 0.5075\n",
            "Epoch 132/250\n",
            "391/391 [==============================] - 11s 28ms/step - loss: 1.4054 - accuracy: 0.5090 - val_loss: 1.4193 - val_accuracy: 0.5115\n",
            "Epoch 133/250\n",
            "391/391 [==============================] - 11s 28ms/step - loss: 1.4033 - accuracy: 0.5109 - val_loss: 1.4134 - val_accuracy: 0.5093\n",
            "Epoch 134/250\n",
            "391/391 [==============================] - 11s 28ms/step - loss: 1.4033 - accuracy: 0.5090 - val_loss: 1.4201 - val_accuracy: 0.5131\n",
            "Epoch 135/250\n",
            "391/391 [==============================] - 11s 28ms/step - loss: 1.3919 - accuracy: 0.5101 - val_loss: 1.4141 - val_accuracy: 0.5111\n",
            "Epoch 136/250\n",
            "391/391 [==============================] - 11s 28ms/step - loss: 1.3987 - accuracy: 0.5125 - val_loss: 1.4191 - val_accuracy: 0.5133\n",
            "Epoch 137/250\n",
            "391/391 [==============================] - 11s 27ms/step - loss: 1.4035 - accuracy: 0.5113 - val_loss: 1.4125 - val_accuracy: 0.5110\n",
            "Epoch 138/250\n",
            "391/391 [==============================] - 11s 28ms/step - loss: 1.4111 - accuracy: 0.5088 - val_loss: 1.4241 - val_accuracy: 0.5063\n",
            "Epoch 139/250\n",
            "391/391 [==============================] - 11s 28ms/step - loss: 1.4080 - accuracy: 0.5062 - val_loss: 1.4295 - val_accuracy: 0.5105\n",
            "Epoch 140/250\n",
            "391/391 [==============================] - 11s 28ms/step - loss: 1.3994 - accuracy: 0.5099 - val_loss: 1.4167 - val_accuracy: 0.5143\n",
            "Epoch 141/250\n",
            "391/391 [==============================] - 11s 28ms/step - loss: 1.3973 - accuracy: 0.5126 - val_loss: 1.4174 - val_accuracy: 0.5105\n",
            "Epoch 142/250\n",
            "391/391 [==============================] - 11s 28ms/step - loss: 1.4121 - accuracy: 0.5058 - val_loss: 1.4165 - val_accuracy: 0.5052\n",
            "Epoch 143/250\n",
            "391/391 [==============================] - 11s 28ms/step - loss: 1.3983 - accuracy: 0.5128 - val_loss: 1.4117 - val_accuracy: 0.5168\n",
            "Epoch 144/250\n",
            "391/391 [==============================] - 11s 27ms/step - loss: 1.4015 - accuracy: 0.5097 - val_loss: 1.4093 - val_accuracy: 0.5119\n",
            "Epoch 145/250\n",
            "391/391 [==============================] - 11s 28ms/step - loss: 1.3967 - accuracy: 0.5128 - val_loss: 1.4140 - val_accuracy: 0.5124\n",
            "Epoch 146/250\n",
            "391/391 [==============================] - 11s 28ms/step - loss: 1.3953 - accuracy: 0.5125 - val_loss: 1.4078 - val_accuracy: 0.5156\n",
            "Epoch 147/250\n",
            "391/391 [==============================] - 11s 28ms/step - loss: 1.4058 - accuracy: 0.5075 - val_loss: 1.4232 - val_accuracy: 0.5082\n",
            "Epoch 148/250\n",
            "391/391 [==============================] - 11s 27ms/step - loss: 1.3995 - accuracy: 0.5136 - val_loss: 1.4085 - val_accuracy: 0.5131\n",
            "Epoch 149/250\n",
            "391/391 [==============================] - 11s 28ms/step - loss: 1.3934 - accuracy: 0.5135 - val_loss: 1.4288 - val_accuracy: 0.5091\n",
            "Epoch 150/250\n",
            "391/391 [==============================] - 11s 28ms/step - loss: 1.3974 - accuracy: 0.5110 - val_loss: 1.4028 - val_accuracy: 0.5141\n",
            "Epoch 151/250\n",
            "391/391 [==============================] - 11s 28ms/step - loss: 1.4537 - accuracy: 0.4875 - val_loss: 1.4399 - val_accuracy: 0.4990\n",
            "Epoch 152/250\n",
            "391/391 [==============================] - 11s 29ms/step - loss: 1.4313 - accuracy: 0.4995 - val_loss: 1.4226 - val_accuracy: 0.5083\n",
            "Epoch 153/250\n",
            "391/391 [==============================] - 11s 28ms/step - loss: 1.4182 - accuracy: 0.5070 - val_loss: 1.4223 - val_accuracy: 0.5047\n",
            "Epoch 154/250\n",
            "391/391 [==============================] - 11s 27ms/step - loss: 1.4127 - accuracy: 0.5074 - val_loss: 1.4233 - val_accuracy: 0.4997\n",
            "Epoch 155/250\n",
            "391/391 [==============================] - 11s 27ms/step - loss: 1.4334 - accuracy: 0.4952 - val_loss: 1.4215 - val_accuracy: 0.5060\n",
            "Epoch 156/250\n",
            "391/391 [==============================] - 11s 27ms/step - loss: 1.4248 - accuracy: 0.5005 - val_loss: 1.4314 - val_accuracy: 0.5014\n",
            "Epoch 157/250\n",
            "391/391 [==============================] - 11s 27ms/step - loss: 1.4195 - accuracy: 0.5027 - val_loss: 1.4261 - val_accuracy: 0.5039\n",
            "Epoch 158/250\n",
            "391/391 [==============================] - 11s 27ms/step - loss: 1.4124 - accuracy: 0.5024 - val_loss: 1.4177 - val_accuracy: 0.5033\n",
            "Epoch 159/250\n",
            "391/391 [==============================] - 11s 28ms/step - loss: 1.4087 - accuracy: 0.5031 - val_loss: 1.4246 - val_accuracy: 0.5049\n",
            "Epoch 160/250\n",
            "391/391 [==============================] - 11s 27ms/step - loss: 1.4074 - accuracy: 0.5046 - val_loss: 1.4283 - val_accuracy: 0.5052\n",
            "Epoch 161/250\n",
            "391/391 [==============================] - 11s 27ms/step - loss: 1.4075 - accuracy: 0.5074 - val_loss: 1.4149 - val_accuracy: 0.5085\n",
            "Epoch 162/250\n",
            "391/391 [==============================] - 10s 27ms/step - loss: 1.4107 - accuracy: 0.5062 - val_loss: 1.4166 - val_accuracy: 0.5059\n",
            "Epoch 163/250\n",
            "391/391 [==============================] - 11s 27ms/step - loss: 1.4063 - accuracy: 0.5109 - val_loss: 1.4303 - val_accuracy: 0.5070\n",
            "Epoch 164/250\n",
            "391/391 [==============================] - 11s 27ms/step - loss: 1.4251 - accuracy: 0.5004 - val_loss: 1.4270 - val_accuracy: 0.5054\n",
            "Epoch 165/250\n",
            "391/391 [==============================] - 11s 27ms/step - loss: 1.4198 - accuracy: 0.5027 - val_loss: 1.4143 - val_accuracy: 0.5071\n",
            "Epoch 166/250\n",
            "391/391 [==============================] - 11s 27ms/step - loss: 1.4084 - accuracy: 0.5072 - val_loss: 1.4195 - val_accuracy: 0.5082\n",
            "Epoch 167/250\n",
            "391/391 [==============================] - 11s 27ms/step - loss: 1.4157 - accuracy: 0.5035 - val_loss: 1.4173 - val_accuracy: 0.5110\n",
            "Epoch 168/250\n",
            "391/391 [==============================] - 11s 27ms/step - loss: 1.4003 - accuracy: 0.5119 - val_loss: 1.4233 - val_accuracy: 0.5058\n",
            "Epoch 169/250\n",
            "391/391 [==============================] - 11s 27ms/step - loss: 1.4090 - accuracy: 0.5099 - val_loss: 1.4101 - val_accuracy: 0.5144\n",
            "Epoch 170/250\n",
            "391/391 [==============================] - 11s 28ms/step - loss: 1.4003 - accuracy: 0.5111 - val_loss: 1.4080 - val_accuracy: 0.5129\n",
            "Epoch 171/250\n",
            "391/391 [==============================] - 11s 27ms/step - loss: 1.4135 - accuracy: 0.5073 - val_loss: 1.4169 - val_accuracy: 0.5049\n",
            "Epoch 172/250\n",
            "391/391 [==============================] - 11s 28ms/step - loss: 1.4110 - accuracy: 0.5083 - val_loss: 1.4147 - val_accuracy: 0.5114\n",
            "Epoch 173/250\n",
            "391/391 [==============================] - 11s 27ms/step - loss: 1.3991 - accuracy: 0.5131 - val_loss: 1.4161 - val_accuracy: 0.5062\n",
            "Epoch 174/250\n",
            "391/391 [==============================] - 11s 27ms/step - loss: 1.4001 - accuracy: 0.5086 - val_loss: 1.4052 - val_accuracy: 0.5113\n",
            "Epoch 175/250\n",
            "391/391 [==============================] - 11s 28ms/step - loss: 1.4071 - accuracy: 0.5089 - val_loss: 1.4100 - val_accuracy: 0.5106\n",
            "Epoch 176/250\n",
            "391/391 [==============================] - 11s 27ms/step - loss: 1.3986 - accuracy: 0.5083 - val_loss: 1.4188 - val_accuracy: 0.5099\n",
            "Epoch 177/250\n",
            "391/391 [==============================] - 11s 27ms/step - loss: 1.3932 - accuracy: 0.5114 - val_loss: 1.4145 - val_accuracy: 0.5124\n",
            "Epoch 178/250\n",
            "391/391 [==============================] - 11s 27ms/step - loss: 1.3906 - accuracy: 0.5132 - val_loss: 1.4154 - val_accuracy: 0.5019\n",
            "Epoch 179/250\n",
            "391/391 [==============================] - 11s 27ms/step - loss: 1.3928 - accuracy: 0.5129 - val_loss: 1.4132 - val_accuracy: 0.5125\n",
            "Epoch 180/250\n",
            "391/391 [==============================] - 11s 27ms/step - loss: 1.3886 - accuracy: 0.5145 - val_loss: 1.4113 - val_accuracy: 0.5104\n",
            "Epoch 181/250\n",
            "391/391 [==============================] - 11s 28ms/step - loss: 1.3887 - accuracy: 0.5123 - val_loss: 1.4071 - val_accuracy: 0.5140\n",
            "Epoch 182/250\n",
            "391/391 [==============================] - 11s 28ms/step - loss: 1.3984 - accuracy: 0.5120 - val_loss: 1.4107 - val_accuracy: 0.5133\n",
            "Epoch 183/250\n",
            "391/391 [==============================] - 10s 27ms/step - loss: 1.3885 - accuracy: 0.5163 - val_loss: 1.4223 - val_accuracy: 0.5119\n",
            "Epoch 184/250\n",
            "391/391 [==============================] - 10s 26ms/step - loss: 1.3997 - accuracy: 0.5131 - val_loss: 1.4232 - val_accuracy: 0.5087\n",
            "Epoch 185/250\n",
            "391/391 [==============================] - 10s 27ms/step - loss: 1.3977 - accuracy: 0.5093 - val_loss: 1.4142 - val_accuracy: 0.5072\n",
            "Epoch 186/250\n",
            "391/391 [==============================] - 10s 27ms/step - loss: 1.3942 - accuracy: 0.5139 - val_loss: 1.4111 - val_accuracy: 0.5109\n",
            "Epoch 187/250\n",
            "391/391 [==============================] - 10s 27ms/step - loss: 1.3960 - accuracy: 0.5115 - val_loss: 1.4207 - val_accuracy: 0.5120\n",
            "Epoch 188/250\n",
            "391/391 [==============================] - 10s 27ms/step - loss: 1.3924 - accuracy: 0.5162 - val_loss: 1.4178 - val_accuracy: 0.5125\n",
            "Epoch 189/250\n",
            "391/391 [==============================] - 10s 26ms/step - loss: 1.3935 - accuracy: 0.5145 - val_loss: 1.4190 - val_accuracy: 0.5133\n",
            "Epoch 190/250\n",
            "391/391 [==============================] - 10s 27ms/step - loss: 1.3906 - accuracy: 0.5110 - val_loss: 1.4124 - val_accuracy: 0.5090\n",
            "Epoch 191/250\n",
            "391/391 [==============================] - 10s 26ms/step - loss: 1.3976 - accuracy: 0.5138 - val_loss: 1.4147 - val_accuracy: 0.5076\n",
            "Epoch 192/250\n",
            "391/391 [==============================] - 10s 27ms/step - loss: 1.4011 - accuracy: 0.5149 - val_loss: 1.4213 - val_accuracy: 0.5106\n",
            "Epoch 193/250\n",
            "391/391 [==============================] - 11s 27ms/step - loss: 1.3974 - accuracy: 0.5117 - val_loss: 1.4154 - val_accuracy: 0.5150\n",
            "Epoch 194/250\n",
            "391/391 [==============================] - 10s 27ms/step - loss: 1.3969 - accuracy: 0.5134 - val_loss: 1.4162 - val_accuracy: 0.5121\n",
            "Epoch 195/250\n",
            "391/391 [==============================] - 11s 27ms/step - loss: 1.3994 - accuracy: 0.5084 - val_loss: 1.4182 - val_accuracy: 0.5114\n",
            "Epoch 196/250\n",
            "391/391 [==============================] - 11s 27ms/step - loss: 1.3985 - accuracy: 0.5098 - val_loss: 1.4169 - val_accuracy: 0.5076\n",
            "Epoch 197/250\n",
            "391/391 [==============================] - 11s 27ms/step - loss: 1.4143 - accuracy: 0.5030 - val_loss: 1.4225 - val_accuracy: 0.5128\n",
            "Epoch 198/250\n",
            "391/391 [==============================] - 11s 27ms/step - loss: 1.4024 - accuracy: 0.5108 - val_loss: 1.4328 - val_accuracy: 0.5063\n",
            "Epoch 199/250\n",
            "391/391 [==============================] - 11s 27ms/step - loss: 1.4013 - accuracy: 0.5092 - val_loss: 1.4071 - val_accuracy: 0.5143\n",
            "Epoch 200/250\n",
            "391/391 [==============================] - 11s 27ms/step - loss: 1.3966 - accuracy: 0.5117 - val_loss: 1.4152 - val_accuracy: 0.5119\n",
            "Epoch 201/250\n",
            "391/391 [==============================] - 11s 27ms/step - loss: 1.3987 - accuracy: 0.5130 - val_loss: 1.4168 - val_accuracy: 0.5054\n",
            "Epoch 202/250\n",
            "391/391 [==============================] - 11s 27ms/step - loss: 1.4025 - accuracy: 0.5116 - val_loss: 1.4454 - val_accuracy: 0.5031\n",
            "Epoch 203/250\n",
            "391/391 [==============================] - 11s 27ms/step - loss: 1.4065 - accuracy: 0.5129 - val_loss: 1.4163 - val_accuracy: 0.5087\n",
            "Epoch 204/250\n",
            "391/391 [==============================] - 11s 27ms/step - loss: 1.3999 - accuracy: 0.5115 - val_loss: 1.4242 - val_accuracy: 0.5037\n",
            "Epoch 205/250\n",
            "391/391 [==============================] - 11s 27ms/step - loss: 1.4054 - accuracy: 0.5122 - val_loss: 1.4318 - val_accuracy: 0.5058\n",
            "Epoch 206/250\n",
            "391/391 [==============================] - 11s 27ms/step - loss: 1.4032 - accuracy: 0.5082 - val_loss: 1.4133 - val_accuracy: 0.5139\n",
            "Epoch 207/250\n",
            "391/391 [==============================] - 11s 27ms/step - loss: 1.4068 - accuracy: 0.5089 - val_loss: 1.4208 - val_accuracy: 0.5043\n",
            "Epoch 208/250\n",
            "391/391 [==============================] - 11s 27ms/step - loss: 1.4051 - accuracy: 0.5067 - val_loss: 1.4292 - val_accuracy: 0.4999\n",
            "Epoch 209/250\n",
            "391/391 [==============================] - 11s 27ms/step - loss: 1.3912 - accuracy: 0.5127 - val_loss: 1.4313 - val_accuracy: 0.5066\n",
            "Epoch 210/250\n",
            "391/391 [==============================] - 11s 27ms/step - loss: 1.4002 - accuracy: 0.5122 - val_loss: 1.4086 - val_accuracy: 0.5089\n",
            "Epoch 211/250\n",
            "391/391 [==============================] - 11s 29ms/step - loss: 1.4026 - accuracy: 0.5072 - val_loss: 1.4163 - val_accuracy: 0.5111\n",
            "Epoch 212/250\n",
            "391/391 [==============================] - 11s 27ms/step - loss: 1.4099 - accuracy: 0.5099 - val_loss: 1.4046 - val_accuracy: 0.5160\n",
            "Epoch 213/250\n",
            "391/391 [==============================] - 11s 27ms/step - loss: 1.4007 - accuracy: 0.5124 - val_loss: 1.4183 - val_accuracy: 0.5123\n",
            "Epoch 214/250\n",
            "391/391 [==============================] - 11s 27ms/step - loss: 1.4016 - accuracy: 0.5143 - val_loss: 1.4155 - val_accuracy: 0.5083\n",
            "Epoch 215/250\n",
            "391/391 [==============================] - 11s 27ms/step - loss: 1.3906 - accuracy: 0.5168 - val_loss: 1.4232 - val_accuracy: 0.5072\n",
            "Epoch 216/250\n",
            "391/391 [==============================] - 11s 28ms/step - loss: 1.4021 - accuracy: 0.5106 - val_loss: 1.4113 - val_accuracy: 0.5123\n",
            "Epoch 217/250\n",
            "391/391 [==============================] - 11s 27ms/step - loss: 1.3966 - accuracy: 0.5120 - val_loss: 1.4111 - val_accuracy: 0.5145\n",
            "Epoch 218/250\n",
            "391/391 [==============================] - 11s 27ms/step - loss: 1.4023 - accuracy: 0.5095 - val_loss: 1.4173 - val_accuracy: 0.5091\n",
            "Epoch 219/250\n",
            "391/391 [==============================] - 11s 27ms/step - loss: 1.4056 - accuracy: 0.5074 - val_loss: 1.4084 - val_accuracy: 0.5119\n",
            "Epoch 220/250\n",
            "391/391 [==============================] - 11s 27ms/step - loss: 1.3957 - accuracy: 0.5130 - val_loss: 1.4164 - val_accuracy: 0.5097\n",
            "Epoch 221/250\n",
            "391/391 [==============================] - 11s 27ms/step - loss: 1.3968 - accuracy: 0.5102 - val_loss: 1.4224 - val_accuracy: 0.5075\n",
            "Epoch 222/250\n",
            "391/391 [==============================] - 10s 27ms/step - loss: 1.4013 - accuracy: 0.5104 - val_loss: 1.4206 - val_accuracy: 0.5110\n",
            "Epoch 223/250\n",
            "391/391 [==============================] - 11s 27ms/step - loss: 1.3943 - accuracy: 0.5158 - val_loss: 1.4239 - val_accuracy: 0.5122\n",
            "Epoch 224/250\n",
            "391/391 [==============================] - 11s 28ms/step - loss: 1.3931 - accuracy: 0.5121 - val_loss: 1.4196 - val_accuracy: 0.5111\n",
            "Epoch 225/250\n",
            "391/391 [==============================] - 11s 27ms/step - loss: 1.3931 - accuracy: 0.5123 - val_loss: 1.4180 - val_accuracy: 0.5015\n",
            "Epoch 226/250\n",
            "391/391 [==============================] - 11s 27ms/step - loss: 1.3912 - accuracy: 0.5138 - val_loss: 1.4197 - val_accuracy: 0.5132\n",
            "Epoch 227/250\n",
            "391/391 [==============================] - 11s 27ms/step - loss: 1.4063 - accuracy: 0.5118 - val_loss: 1.4248 - val_accuracy: 0.5059\n",
            "Epoch 228/250\n",
            "391/391 [==============================] - 11s 27ms/step - loss: 1.3933 - accuracy: 0.5114 - val_loss: 1.4131 - val_accuracy: 0.5103\n",
            "Epoch 229/250\n",
            "391/391 [==============================] - 11s 27ms/step - loss: 1.3885 - accuracy: 0.5172 - val_loss: 1.4043 - val_accuracy: 0.5157\n",
            "Epoch 230/250\n",
            "391/391 [==============================] - 11s 27ms/step - loss: 1.3962 - accuracy: 0.5147 - val_loss: 1.4105 - val_accuracy: 0.5083\n",
            "Epoch 231/250\n",
            "391/391 [==============================] - 11s 28ms/step - loss: 1.3941 - accuracy: 0.5121 - val_loss: 1.4273 - val_accuracy: 0.5084\n",
            "Epoch 232/250\n",
            "391/391 [==============================] - 11s 27ms/step - loss: 1.3931 - accuracy: 0.5161 - val_loss: 1.4130 - val_accuracy: 0.5079\n",
            "Epoch 233/250\n",
            "391/391 [==============================] - 10s 27ms/step - loss: 1.3989 - accuracy: 0.5101 - val_loss: 1.4222 - val_accuracy: 0.5083\n",
            "Epoch 234/250\n",
            "391/391 [==============================] - 11s 27ms/step - loss: 1.3938 - accuracy: 0.5100 - val_loss: 1.4101 - val_accuracy: 0.5101\n",
            "Epoch 235/250\n",
            "391/391 [==============================] - 11s 27ms/step - loss: 1.3947 - accuracy: 0.5113 - val_loss: 1.4123 - val_accuracy: 0.5054\n",
            "Epoch 236/250\n",
            "391/391 [==============================] - 11s 27ms/step - loss: 1.3925 - accuracy: 0.5122 - val_loss: 1.4150 - val_accuracy: 0.5156\n",
            "Epoch 237/250\n",
            "391/391 [==============================] - 11s 27ms/step - loss: 1.3991 - accuracy: 0.5112 - val_loss: 1.4117 - val_accuracy: 0.5091\n",
            "Epoch 238/250\n",
            "391/391 [==============================] - 11s 27ms/step - loss: 1.4055 - accuracy: 0.5099 - val_loss: 1.4289 - val_accuracy: 0.5060\n",
            "Epoch 239/250\n",
            "391/391 [==============================] - 11s 28ms/step - loss: 1.4052 - accuracy: 0.5049 - val_loss: 1.4257 - val_accuracy: 0.5035\n",
            "Epoch 240/250\n",
            "391/391 [==============================] - 11s 29ms/step - loss: 1.4041 - accuracy: 0.5078 - val_loss: 1.4189 - val_accuracy: 0.5069\n",
            "Epoch 241/250\n",
            "391/391 [==============================] - 11s 27ms/step - loss: 1.3996 - accuracy: 0.5085 - val_loss: 1.4111 - val_accuracy: 0.5078\n",
            "Epoch 242/250\n",
            "391/391 [==============================] - 11s 27ms/step - loss: 1.4083 - accuracy: 0.5069 - val_loss: 1.4210 - val_accuracy: 0.5036\n",
            "Epoch 243/250\n",
            "391/391 [==============================] - 11s 28ms/step - loss: 1.3898 - accuracy: 0.5130 - val_loss: 1.4106 - val_accuracy: 0.5152\n",
            "Epoch 244/250\n",
            "391/391 [==============================] - 11s 27ms/step - loss: 1.3906 - accuracy: 0.5109 - val_loss: 1.4130 - val_accuracy: 0.5125\n",
            "Epoch 245/250\n",
            "391/391 [==============================] - 11s 28ms/step - loss: 1.4071 - accuracy: 0.5011 - val_loss: 1.4158 - val_accuracy: 0.5024\n",
            "Epoch 246/250\n",
            "391/391 [==============================] - 11s 27ms/step - loss: 1.4200 - accuracy: 0.5005 - val_loss: 1.4299 - val_accuracy: 0.5065\n",
            "Epoch 247/250\n",
            "391/391 [==============================] - 11s 27ms/step - loss: 1.4037 - accuracy: 0.5076 - val_loss: 1.4214 - val_accuracy: 0.5095\n",
            "Epoch 248/250\n",
            "391/391 [==============================] - 11s 27ms/step - loss: 1.3975 - accuracy: 0.5138 - val_loss: 1.4146 - val_accuracy: 0.5092\n",
            "Epoch 249/250\n",
            "391/391 [==============================] - 11s 27ms/step - loss: 1.3938 - accuracy: 0.5140 - val_loss: 1.4206 - val_accuracy: 0.5114\n",
            "Epoch 250/250\n",
            "391/391 [==============================] - 11s 27ms/step - loss: 1.3986 - accuracy: 0.5134 - val_loss: 1.4093 - val_accuracy: 0.5163\n"
          ],
          "name": "stdout"
        }
      ]
    },
    {
      "cell_type": "code",
      "metadata": {
        "id": "GqDAcae-UnJV",
        "colab_type": "code",
        "colab": {
          "base_uri": "https://localhost:8080/",
          "height": 279
        },
        "outputId": "a4a53af1-b9e6-400a-bd90-bc725cb9f4a2"
      },
      "source": [
        "plt.plot(history.history[\"loss\"], label=\"training\")\n",
        "plt.plot(history.history[\"val_loss\"], label=\"validation\")\n",
        "plt.xlabel(\"epoch\")\n",
        "plt.legend()\n",
        "plt.show()"
      ],
      "execution_count": null,
      "outputs": [
        {
          "output_type": "display_data",
          "data": {
            "image/png": "[encoded data removed]",
            "text/plain": [
              "<Figure size 432x288 with 1 Axes>"
            ]
          },
          "metadata": {
            "tags": [],
            "needs_background": "light"
          }
        }
      ]
    },
    {
      "cell_type": "code",
      "metadata": {
        "id": "KJQ-339KU-l6",
        "colab_type": "code",
        "colab": {
          "base_uri": "https://localhost:8080/",
          "height": 282
        },
        "outputId": "5c091006-4ede-4f24-f9f6-d0834c329cb9"
      },
      "source": [
        "plt.plot(history.history[\"accuracy\"], label=\"training\")\n",
        "plt.plot(history.history[\"val_accuracy\"], label=\"validation\")\n",
        "plt.xlabel(\"epoch\")\n",
        "plt.legend()\n",
        "plt.show()"
      ],
      "execution_count": null,
      "outputs": [
        {
          "output_type": "display_data",
          "data": {
            "image/png": "[encoded data removed]",
            "text/plain": [
              "<Figure size 432x288 with 1 Axes>"
            ]
          },
          "metadata": {
            "tags": [],
            "needs_background": "light"
          }
        }
      ]
    },
    {
      "cell_type": "markdown",
      "metadata": {
        "id": "RiYBEWhMHCFm",
        "colab_type": "text"
      },
      "source": [
        "The above model has been pretrained to reach 50 - 51 % accuracy. This has not really imroved for the last 250 epochs, as seen from the graphs. Let us save the model and move on. "
      ]
    },
    {
      "cell_type": "code",
      "metadata": {
        "id": "QPNq1xHMHtRd",
        "colab_type": "code",
        "colab": {
          "base_uri": "https://localhost:8080/",
          "height": 17
        },
        "outputId": "f4446fcb-27ba-474a-fde4-86d6a63a47c7"
      },
      "source": [
        "model.save('deep_network.h5')\n",
        "from google.colab import files\n",
        "files.download(\"deep_network.h5\")"
      ],
      "execution_count": null,
      "outputs": [
        {
          "output_type": "display_data",
          "data": {
            "application/javascript": [
              "\n",
              "    async function download(id, filename, size) {\n",
              "      if (!google.colab.kernel.accessAllowed) {\n",
              "        return;\n",
              "      }\n",
              "      const div = document.createElement('div');\n",
              "      const label = document.createElement('label');\n",
              "      label.textContent = `Downloading \"${filename}\": `;\n",
              "      div.appendChild(label);\n",
              "      const progress = document.createElement('progress');\n",
              "      progress.max = size;\n",
              "      div.appendChild(progress);\n",
              "      document.body.appendChild(div);\n",
              "\n",
              "      const buffers = [];\n",
              "      let downloaded = 0;\n",
              "\n",
              "      const channel = await google.colab.kernel.comms.open(id);\n",
              "      // Send a message to notify the kernel that we're ready.\n",
              "      channel.send({})\n",
              "\n",
              "      for await (const message of channel.messages) {\n",
              "        // Send a message to notify the kernel that we're ready.\n",
              "        channel.send({})\n",
              "        if (message.buffers) {\n",
              "          for (const buffer of message.buffers) {\n",
              "            buffers.push(buffer);\n",
              "            downloaded += buffer.byteLength;\n",
              "            progress.value = downloaded;\n",
              "          }\n",
              "        }\n",
              "      }\n",
              "      const blob = new Blob(buffers, {type: 'application/binary'});\n",
              "      const a = document.createElement('a');\n",
              "      a.href = window.URL.createObjectURL(blob);\n",
              "      a.download = filename;\n",
              "      div.appendChild(a);\n",
              "      a.click();\n",
              "      div.remove();\n",
              "    }\n",
              "  "
            ],
            "text/plain": [
              "<IPython.core.display.Javascript object>"
            ]
          },
          "metadata": {
            "tags": []
          }
        },
        {
          "output_type": "display_data",
          "data": {
            "application/javascript": [
              "download(\"download_91aab0b7-764f-45ae-b36f-305a6d234cef\", \"deep_network.h5\", 6201360)"
            ],
            "text/plain": [
              "<IPython.core.display.Javascript object>"
            ]
          },
          "metadata": {
            "tags": []
          }
        }
      ]
    },
    {
      "cell_type": "markdown",
      "metadata": {
        "id": "qy1Rtv1xWuHQ",
        "colab_type": "text"
      },
      "source": [
        "## How well can a single-hidden-layer neural network do?"
      ]
    },
    {
      "cell_type": "markdown",
      "metadata": {
        "id": "QXUjqm7KxlV_",
        "colab_type": "text"
      },
      "source": [
        "### Tuning the learning rate"
      ]
    },
    {
      "cell_type": "code",
      "metadata": {
        "id": "KrDiEjWKW8zk",
        "colab_type": "code",
        "colab": {}
      },
      "source": [
        "# this is a shallow network -- we do not need batchnorm, but we still need to rescale the input images\n",
        "(X_train, y_train), (X_test, y_test) = keras.datasets.cifar10.load_data()\n",
        "X_train = X_train / 255.\n",
        "X_test = X_test / 255."
      ],
      "execution_count": null,
      "outputs": []
    },
    {
      "cell_type": "code",
      "metadata": {
        "id": "D7d-AIp3WsM9",
        "colab_type": "code",
        "colab": {}
      },
      "source": [
        "# now assemble the model (we choose the size of the hidden layer as (n_input + n_output)/2)\n",
        "model = keras.models.Sequential()\n",
        "model.add(keras.layers.InputLayer(input_shape=(32, 32, 3)))\n",
        "model.add(keras.layers.Flatten())\n",
        "model.add(keras.layers.Dense(1541, activation=\"relu\", kernel_regularizer=keras.regularizers.l2(0.05), kernel_initializer=\"he_normal\"))\n",
        "model.add(keras.layers.Dense(10, activation=\"softmax\"))"
      ],
      "execution_count": null,
      "outputs": []
    },
    {
      "cell_type": "code",
      "metadata": {
        "id": "d6iLV_GdWzdl",
        "colab_type": "code",
        "colab": {
          "base_uri": "https://localhost:8080/",
          "height": 255
        },
        "outputId": "92ed1770-749c-4b25-9754-3ae1113974fd"
      },
      "source": [
        "model.summary()"
      ],
      "execution_count": null,
      "outputs": [
        {
          "output_type": "stream",
          "text": [
            "Model: \"sequential_3\"\n",
            "_________________________________________________________________\n",
            "Layer (type)                 Output Shape              Param #   \n",
            "=================================================================\n",
            "flatten_3 (Flatten)          (None, 3072)              0         \n",
            "_________________________________________________________________\n",
            "dense_63 (Dense)             (None, 1541)              4735493   \n",
            "_________________________________________________________________\n",
            "dense_64 (Dense)             (None, 10)                15420     \n",
            "=================================================================\n",
            "Total params: 4,750,913\n",
            "Trainable params: 4,750,913\n",
            "Non-trainable params: 0\n",
            "_________________________________________________________________\n"
          ],
          "name": "stdout"
        }
      ]
    },
    {
      "cell_type": "markdown",
      "metadata": {
        "id": "_7euP-qhbmmX",
        "colab_type": "text"
      },
      "source": [
        "This has many more parameters than the previous, deep model. Try learning rate scheduling:"
      ]
    },
    {
      "cell_type": "code",
      "metadata": {
        "id": "4i429SciYQSA",
        "colab_type": "code",
        "colab": {}
      },
      "source": [
        "lr_schedule = keras.callbacks.LearningRateScheduler(lambda epoch: 1e-6 * 10**(epoch/20))"
      ],
      "execution_count": null,
      "outputs": []
    },
    {
      "cell_type": "code",
      "metadata": {
        "id": "TODyOou8bRMM",
        "colab_type": "code",
        "colab": {}
      },
      "source": [
        "optimizer = tf.keras.optimizers.SGD(lr=1e-6, momentum=0.9)\n",
        "model.compile(loss=\"sparse_categorical_crossentropy\", optimizer=optimizer, metrics=[\"accuracy\"])"
      ],
      "execution_count": null,
      "outputs": []
    },
    {
      "cell_type": "code",
      "metadata": {
        "id": "jzhaOZ-iYTPH",
        "colab_type": "code",
        "colab": {}
      },
      "source": [
        "history = model.fit(X_train, y_train, epochs=120, validation_data=(X_test, y_test), batch_size=128, callbacks=[lr_schedule])"
      ],
      "execution_count": null,
      "outputs": []
    },
    {
      "cell_type": "code",
      "metadata": {
        "id": "ykY1o3ALd-lg",
        "colab_type": "code",
        "colab": {
          "base_uri": "https://localhost:8080/",
          "height": 287
        },
        "outputId": "a76bad9a-7811-4d9a-a5be-b0f2b48fc2f3"
      },
      "source": [
        "import matplotlib.pyplot as plt\n",
        "plt.semilogx(history.history[\"lr\"], history.history[\"loss\"],label=\"training loss\")\n",
        "plt.semilogx(history.history[\"lr\"], history.history[\"val_loss\"],label=\"validation loss\")\n",
        "plt.xlabel(\"epoch\")\n",
        "plt.legend()\n",
        "plt.axis([1e-5, 1, 0, 100])\n",
        "plt.show()"
      ],
      "execution_count": null,
      "outputs": [
        {
          "output_type": "display_data",
          "data": {
            "image/png": "[encoded data removed]",
            "text/plain": [
              "<Figure size 432x288 with 1 Axes>"
            ]
          },
          "metadata": {
            "tags": [],
            "needs_background": "light"
          }
        }
      ]
    },
    {
      "cell_type": "markdown",
      "metadata": {
        "id": "_fecP4VnheVt",
        "colab_type": "text"
      },
      "source": [
        "### Fitting with the optimal learning rate"
      ]
    },
    {
      "cell_type": "code",
      "metadata": {
        "id": "Ard4ugeChiq9",
        "colab_type": "code",
        "colab": {}
      },
      "source": [
        "(X_train, y_train), (X_test, y_test) = keras.datasets.cifar10.load_data()\n",
        "X_train = X_train / 255.\n",
        "X_test = X_test / 255."
      ],
      "execution_count": null,
      "outputs": []
    },
    {
      "cell_type": "code",
      "metadata": {
        "id": "M7_Z9flAhnWs",
        "colab_type": "code",
        "colab": {}
      },
      "source": [
        "# now assemble the model\n",
        "model = keras.models.Sequential()\n",
        "model.add(keras.layers.InputLayer(input_shape=(32, 32, 3)))\n",
        "model.add(keras.layers.Flatten())\n",
        "model.add(keras.layers.Dense(1541, activation=\"relu\", kernel_regularizer=keras.regularizers.l2(0.05), kernel_initializer=\"he_normal\"))\n",
        "model.add(keras.layers.Dense(10, activation=\"softmax\"))"
      ],
      "execution_count": null,
      "outputs": []
    },
    {
      "cell_type": "code",
      "metadata": {
        "id": "Ie517G0YfeNR",
        "colab_type": "code",
        "colab": {}
      },
      "source": [
        "optimizer = tf.keras.optimizers.SGD(lr=2e-4, momentum=0.9)\n",
        "model.compile(loss=\"sparse_categorical_crossentropy\", optimizer=optimizer, metrics=[\"accuracy\"])"
      ],
      "execution_count": null,
      "outputs": []
    },
    {
      "cell_type": "code",
      "metadata": {
        "id": "7yaCbzMofrBZ",
        "colab_type": "code",
        "colab": {}
      },
      "source": [
        "history = model.fit(X_train, y_train, epochs=500, validation_data=(X_test, y_test), batch_size=128)"
      ],
      "execution_count": null,
      "outputs": []
    },
    {
      "cell_type": "code",
      "metadata": {
        "id": "tM72XaF94nFC",
        "colab_type": "code",
        "colab": {
          "base_uri": "https://localhost:8080/",
          "height": 279
        },
        "outputId": "7f4c5d14-3f86-4662-8104-61f1de658b33"
      },
      "source": [
        "import matplotlib.pyplot as plt\n",
        "plt.plot(history.history[\"loss\"], label=\"training\")\n",
        "plt.plot(history.history[\"val_loss\"], label=\"validation\")\n",
        "plt.xlabel(\"epoch\")\n",
        "plt.legend()\n",
        "plt.show()"
      ],
      "execution_count": null,
      "outputs": [
        {
          "output_type": "display_data",
          "data": {
            "image/png": "[encoded data removed]",
            "text/plain": [
              "<Figure size 432x288 with 1 Axes>"
            ]
          },
          "metadata": {
            "tags": [],
            "needs_background": "light"
          }
        }
      ]
    },
    {
      "cell_type": "code",
      "metadata": {
        "id": "9kdyLPmw42Mc",
        "colab_type": "code",
        "colab": {
          "base_uri": "https://localhost:8080/",
          "height": 279
        },
        "outputId": "34aa8354-1a81-4776-a8be-9576008d6fda"
      },
      "source": [
        "plt.plot(history.history[\"accuracy\"], label=\"training\")\n",
        "plt.plot(history.history[\"val_accuracy\"], label=\"validation\")\n",
        "plt.xlabel(\"epoch\")\n",
        "plt.legend()\n",
        "plt.show()"
      ],
      "execution_count": null,
      "outputs": [
        {
          "output_type": "display_data",
          "data": {
            "image/png": "[encoded data removed]",
            "text/plain": [
              "<Figure size 432x288 with 1 Axes>"
            ]
          },
          "metadata": {
            "tags": [],
            "needs_background": "light"
          }
        }
      ]
    },
    {
      "cell_type": "code",
      "metadata": {
        "id": "OtCcZs0VZoLb",
        "colab_type": "code",
        "colab": {
          "base_uri": "https://localhost:8080/",
          "height": 17
        },
        "outputId": "f1e8508d-57a9-4020-aa16-cb958d0b4e00"
      },
      "source": [
        "model.save('1_hid_layer.h5')\n",
        "from google.colab import files\n",
        "files.download(\"1_hid_layer.h5\")"
      ],
      "execution_count": null,
      "outputs": [
        {
          "output_type": "display_data",
          "data": {
            "application/javascript": [
              "\n",
              "    async function download(id, filename, size) {\n",
              "      if (!google.colab.kernel.accessAllowed) {\n",
              "        return;\n",
              "      }\n",
              "      const div = document.createElement('div');\n",
              "      const label = document.createElement('label');\n",
              "      label.textContent = `Downloading \"${filename}\": `;\n",
              "      div.appendChild(label);\n",
              "      const progress = document.createElement('progress');\n",
              "      progress.max = size;\n",
              "      div.appendChild(progress);\n",
              "      document.body.appendChild(div);\n",
              "\n",
              "      const buffers = [];\n",
              "      let downloaded = 0;\n",
              "\n",
              "      const channel = await google.colab.kernel.comms.open(id);\n",
              "      // Send a message to notify the kernel that we're ready.\n",
              "      channel.send({})\n",
              "\n",
              "      for await (const message of channel.messages) {\n",
              "        // Send a message to notify the kernel that we're ready.\n",
              "        channel.send({})\n",
              "        if (message.buffers) {\n",
              "          for (const buffer of message.buffers) {\n",
              "            buffers.push(buffer);\n",
              "            downloaded += buffer.byteLength;\n",
              "            progress.value = downloaded;\n",
              "          }\n",
              "        }\n",
              "      }\n",
              "      const blob = new Blob(buffers, {type: 'application/binary'});\n",
              "      const a = document.createElement('a');\n",
              "      a.href = window.URL.createObjectURL(blob);\n",
              "      a.download = filename;\n",
              "      div.appendChild(a);\n",
              "      a.click();\n",
              "      div.remove();\n",
              "    }\n",
              "  "
            ],
            "text/plain": [
              "<IPython.core.display.Javascript object>"
            ]
          },
          "metadata": {
            "tags": []
          }
        },
        {
          "output_type": "display_data",
          "data": {
            "application/javascript": [
              "download(\"download_e86f73dc-cc5f-4248-9585-ec8af10dfe74\", \"1_hid_layer.h5\", 38032608)"
            ],
            "text/plain": [
              "<IPython.core.display.Javascript object>"
            ]
          },
          "metadata": {
            "tags": []
          }
        }
      ]
    },
    {
      "cell_type": "markdown",
      "metadata": {
        "id": "D_REtqV49Hs8",
        "colab_type": "text"
      },
      "source": [
        "## 2 hidden layers"
      ]
    },
    {
      "cell_type": "code",
      "metadata": {
        "id": "eMmnIL4z9NnC",
        "colab_type": "code",
        "colab": {}
      },
      "source": [
        "# rescale the data\n",
        "(X_train, y_train), (X_test, y_test) = keras.datasets.cifar10.load_data()\n",
        "X_train = X_train / 255.\n",
        "X_test = X_test / 255."
      ],
      "execution_count": null,
      "outputs": []
    },
    {
      "cell_type": "code",
      "metadata": {
        "id": "5FVnlZBb9V_4",
        "colab_type": "code",
        "colab": {}
      },
      "source": [
        "# now assemble the model\n",
        "model = keras.models.Sequential()\n",
        "model.add(keras.layers.InputLayer(input_shape=(32, 32, 3)))\n",
        "model.add(keras.layers.Flatten())\n",
        "model.add(keras.layers.Dropout(0.6))\n",
        "model.add(keras.layers.Dense(1024, kernel_initializer=\"he_normal\"))\n",
        "model.add(keras.layers.BatchNormalization())\n",
        "model.add(keras.layers.Activation(\"elu\"))\n",
        "model.add(keras.layers.Dropout(0.6))\n",
        "model.add(keras.layers.Dense(512, kernel_initializer=\"he_normal\"))\n",
        "model.add(keras.layers.BatchNormalization())\n",
        "model.add(keras.layers.Activation(\"elu\"))\n",
        "model.add(keras.layers.Dense(10, activation=\"softmax\"))"
      ],
      "execution_count": null,
      "outputs": []
    },
    {
      "cell_type": "code",
      "metadata": {
        "id": "05opr_K29nTj",
        "colab_type": "code",
        "colab": {
          "base_uri": "https://localhost:8080/",
          "height": 493
        },
        "outputId": "aa397625-e4b9-46a2-b4ff-2152bbabc9a4"
      },
      "source": [
        "model.summary()"
      ],
      "execution_count": null,
      "outputs": [
        {
          "output_type": "stream",
          "text": [
            "Model: \"sequential_3\"\n",
            "_________________________________________________________________\n",
            "Layer (type)                 Output Shape              Param #   \n",
            "=================================================================\n",
            "flatten_3 (Flatten)          (None, 3072)              0         \n",
            "_________________________________________________________________\n",
            "dropout_2 (Dropout)          (None, 3072)              0         \n",
            "_________________________________________________________________\n",
            "dense_7 (Dense)              (None, 1024)              3146752   \n",
            "_________________________________________________________________\n",
            "batch_normalization_2 (Batch (None, 1024)              4096      \n",
            "_________________________________________________________________\n",
            "activation_2 (Activation)    (None, 1024)              0         \n",
            "_________________________________________________________________\n",
            "dropout_3 (Dropout)          (None, 1024)              0         \n",
            "_________________________________________________________________\n",
            "dense_8 (Dense)              (None, 512)               524800    \n",
            "_________________________________________________________________\n",
            "batch_normalization_3 (Batch (None, 512)               2048      \n",
            "_________________________________________________________________\n",
            "activation_3 (Activation)    (None, 512)               0         \n",
            "_________________________________________________________________\n",
            "dense_9 (Dense)              (None, 10)                5130      \n",
            "=================================================================\n",
            "Total params: 3,682,826\n",
            "Trainable params: 3,679,754\n",
            "Non-trainable params: 3,072\n",
            "_________________________________________________________________\n"
          ],
          "name": "stdout"
        }
      ]
    },
    {
      "cell_type": "code",
      "metadata": {
        "id": "ij_LAdlN9oNx",
        "colab_type": "code",
        "colab": {}
      },
      "source": [
        "lr_schedule = keras.callbacks.LearningRateScheduler(lambda epoch: 1e-6 * 10**(epoch/20))"
      ],
      "execution_count": null,
      "outputs": []
    },
    {
      "cell_type": "code",
      "metadata": {
        "id": "yu9E9rjg9t1v",
        "colab_type": "code",
        "colab": {}
      },
      "source": [
        "optimizer = tf.keras.optimizers.SGD(lr=1e-6, momentum=0.9)\n",
        "model.compile(loss=\"sparse_categorical_crossentropy\", optimizer=optimizer, metrics=[\"accuracy\"])"
      ],
      "execution_count": null,
      "outputs": []
    },
    {
      "cell_type": "code",
      "metadata": {
        "id": "reGGMOZS9y7b",
        "colab_type": "code",
        "colab": {}
      },
      "source": [
        "history = model.fit(X_train, y_train, epochs=200, validation_data=(X_test, y_test), batch_size=128, callbacks=[lr_schedule])"
      ],
      "execution_count": null,
      "outputs": []
    },
    {
      "cell_type": "code",
      "metadata": {
        "id": "kTiPtOmt-4BA",
        "colab_type": "code",
        "colab": {
          "base_uri": "https://localhost:8080/",
          "height": 287
        },
        "outputId": "71f93c80-c66f-411c-bdab-727730da3195"
      },
      "source": [
        "import matplotlib.pyplot as plt\n",
        "plt.semilogx(history.history[\"lr\"], history.history[\"loss\"],label=\"training loss\")\n",
        "plt.semilogx(history.history[\"lr\"], history.history[\"val_loss\"],label=\"validation loss\")\n",
        "plt.xlabel(\"epoch\")\n",
        "plt.legend()\n",
        "plt.axis([1e-6, 1e1, 0, 5])\n",
        "plt.show()"
      ],
      "execution_count": null,
      "outputs": [
        {
          "output_type": "display_data",
          "data": {
            "image/png": "[encoded data removed]",
            "text/plain": [
              "<Figure size 432x288 with 1 Axes>"
            ]
          },
          "metadata": {
            "tags": [],
            "needs_background": "light"
          }
        }
      ]
    },
    {
      "cell_type": "markdown",
      "metadata": {
        "id": "-VzzHraj_Wr8",
        "colab_type": "text"
      },
      "source": [
        "## Fitting with Adam optimizer"
      ]
    },
    {
      "cell_type": "code",
      "metadata": {
        "id": "huqfV-S5_bcJ",
        "colab_type": "code",
        "colab": {}
      },
      "source": [
        "# this is a shallow network -- we do not need batchnorm, but we still need to rescale the input images\n",
        "(X_train, y_train), (X_test, y_test) = keras.datasets.cifar10.load_data()\n",
        "X_train = X_train / 255.\n",
        "X_test = X_test / 255."
      ],
      "execution_count": null,
      "outputs": []
    },
    {
      "cell_type": "code",
      "metadata": {
        "id": "4BILLF2X_hPW",
        "colab_type": "code",
        "colab": {}
      },
      "source": [
        "# now assemble the model\n",
        "model = keras.models.Sequential()\n",
        "model.add(keras.layers.InputLayer(input_shape=(32, 32, 3)))\n",
        "model.add(keras.layers.Flatten())\n",
        "model.add(keras.layers.Dropout(0.6))\n",
        "model.add(keras.layers.Dense(1024, kernel_initializer=\"he_normal\"))\n",
        "model.add(keras.layers.BatchNormalization())\n",
        "model.add(keras.layers.Activation(\"elu\"))\n",
        "model.add(keras.layers.Dropout(0.6))\n",
        "model.add(keras.layers.Dense(512, kernel_initializer=\"he_normal\"))\n",
        "model.add(keras.layers.BatchNormalization())\n",
        "model.add(keras.layers.Activation(\"elu\"))\n",
        "model.add(keras.layers.Dense(10, activation=\"softmax\"))"
      ],
      "execution_count": null,
      "outputs": []
    },
    {
      "cell_type": "code",
      "metadata": {
        "id": "voWLVM7W_hT_",
        "colab_type": "code",
        "colab": {}
      },
      "source": [
        "optimizer = tf.keras.optimizers.Adam() #SGD(lr=1e-4, momentum=0.9)\n",
        "model.compile(loss=\"sparse_categorical_crossentropy\", optimizer=optimizer, metrics=[\"accuracy\"])"
      ],
      "execution_count": null,
      "outputs": []
    },
    {
      "cell_type": "code",
      "metadata": {
        "id": "wtdL82SR_hWx",
        "colab_type": "code",
        "colab": {}
      },
      "source": [
        "history = model.fit(X_train, y_train, epochs=500, validation_data=(X_test, y_test), batch_size=128)"
      ],
      "execution_count": null,
      "outputs": []
    },
    {
      "cell_type": "code",
      "metadata": {
        "id": "lwJ_CrFZSlNK",
        "colab_type": "code",
        "colab": {
          "base_uri": "https://localhost:8080/",
          "height": 279
        },
        "outputId": "7d5539b1-2aed-49b0-bd1e-3c98ee73c25b"
      },
      "source": [
        "import matplotlib.pyplot as plt\n",
        "plt.plot(history.history[\"loss\"], label=\"training\")\n",
        "plt.plot(history.history[\"val_loss\"], label=\"validation\")\n",
        "plt.xlabel(\"epoch\")\n",
        "plt.legend()\n",
        "plt.show()"
      ],
      "execution_count": null,
      "outputs": [
        {
          "output_type": "display_data",
          "data": {
            "image/png": "[encoded data removed]",
            "text/plain": [
              "<Figure size 432x288 with 1 Axes>"
            ]
          },
          "metadata": {
            "tags": [],
            "needs_background": "light"
          }
        }
      ]
    },
    {
      "cell_type": "code",
      "metadata": {
        "id": "y4S99qA9SvY7",
        "colab_type": "code",
        "colab": {
          "base_uri": "https://localhost:8080/",
          "height": 279
        },
        "outputId": "6a4e16c8-4d6f-4700-ada2-32f10532aaed"
      },
      "source": [
        "plt.plot(history.history[\"accuracy\"], label=\"training\")\n",
        "plt.plot(history.history[\"val_accuracy\"], label=\"validation\")\n",
        "plt.xlabel(\"epoch\")\n",
        "plt.legend()\n",
        "plt.show()"
      ],
      "execution_count": null,
      "outputs": [
        {
          "output_type": "display_data",
          "data": {
            "image/png": "[encoded data removed]",
            "text/plain": [
              "<Figure size 432x288 with 1 Axes>"
            ]
          },
          "metadata": {
            "tags": [],
            "needs_background": "light"
          }
        }
      ]
    },
    {
      "cell_type": "code",
      "metadata": {
        "id": "EyyG_Lmj276D",
        "colab_type": "code",
        "colab": {
          "base_uri": "https://localhost:8080/",
          "height": 17
        },
        "outputId": "071e4ad2-c719-457a-9208-ad64876f374b"
      },
      "source": [
        "model.save('2_hid_layer.h5')\n",
        "from google.colab import files\n",
        "files.download(\"2_hid_layer.h5\")"
      ],
      "execution_count": null,
      "outputs": [
        {
          "output_type": "display_data",
          "data": {
            "application/javascript": [
              "\n",
              "    async function download(id, filename, size) {\n",
              "      if (!google.colab.kernel.accessAllowed) {\n",
              "        return;\n",
              "      }\n",
              "      const div = document.createElement('div');\n",
              "      const label = document.createElement('label');\n",
              "      label.textContent = `Downloading \"${filename}\": `;\n",
              "      div.appendChild(label);\n",
              "      const progress = document.createElement('progress');\n",
              "      progress.max = size;\n",
              "      div.appendChild(progress);\n",
              "      document.body.appendChild(div);\n",
              "\n",
              "      const buffers = [];\n",
              "      let downloaded = 0;\n",
              "\n",
              "      const channel = await google.colab.kernel.comms.open(id);\n",
              "      // Send a message to notify the kernel that we're ready.\n",
              "      channel.send({})\n",
              "\n",
              "      for await (const message of channel.messages) {\n",
              "        // Send a message to notify the kernel that we're ready.\n",
              "        channel.send({})\n",
              "        if (message.buffers) {\n",
              "          for (const buffer of message.buffers) {\n",
              "            buffers.push(buffer);\n",
              "            downloaded += buffer.byteLength;\n",
              "            progress.value = downloaded;\n",
              "          }\n",
              "        }\n",
              "      }\n",
              "      const blob = new Blob(buffers, {type: 'application/binary'});\n",
              "      const a = document.createElement('a');\n",
              "      a.href = window.URL.createObjectURL(blob);\n",
              "      a.download = filename;\n",
              "      div.appendChild(a);\n",
              "      a.click();\n",
              "      div.remove();\n",
              "    }\n",
              "  "
            ],
            "text/plain": [
              "<IPython.core.display.Javascript object>"
            ]
          },
          "metadata": {
            "tags": []
          }
        },
        {
          "output_type": "display_data",
          "data": {
            "application/javascript": [
              "download(\"download_b708e9c2-eed5-49e6-b59c-65cad9947d15\", \"2_hid_layer.h5\", 44224440)"
            ],
            "text/plain": [
              "<IPython.core.display.Javascript object>"
            ]
          },
          "metadata": {
            "tags": []
          }
        }
      ]
    }
  ]
}