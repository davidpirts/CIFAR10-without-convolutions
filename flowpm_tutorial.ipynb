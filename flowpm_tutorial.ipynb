{
  "nbformat": 4,
  "nbformat_minor": 0,
  "metadata": {
    "accelerator": "GPU",
    "colab": {
      "name": "flowpm_tutorial.ipynb",
      "provenance": [],
      "collapsed_sections": [],
      "include_colab_link": true
    },
    "kernelspec": {
      "display_name": "Python 3",
      "language": "python",
      "name": "python3"
    },
    "language_info": {
      "codemirror_mode": {
        "name": "ipython",
        "version": 3
      },
      "file_extension": ".py",
      "mimetype": "text/x-python",
      "name": "python",
      "nbconvert_exporter": "python",
      "pygments_lexer": "ipython3",
      "version": "3.8.2"
    }
  },
  "cells": [
    {
      "cell_type": "markdown",
      "metadata": {
        "id": "view-in-github",
        "colab_type": "text"
      },
      "source": [
        "<a href=\"https://colab.research.google.com/github/davidpirts/CIFAR10-without-convolutions/blob/master/flowpm_tutorial.ipynb\" target=\"_parent\"><img src=\"https://colab.research.google.com/assets/colab-badge.svg\" alt=\"Open In Colab\"/></a>"
      ]
    },
    {
      "cell_type": "code",
      "metadata": {
        "colab": {
          "base_uri": "https://localhost:8080/"
        },
        "id": "dFEqg6soYvTy",
        "outputId": "9b4ed631-6d55-424f-d1c0-044f298b3d40"
      },
      "source": [
        "# mount the drive for saving the dataset\n",
        "from google.colab import drive\n",
        "drive.mount('/content/drive')"
      ],
      "execution_count": 1,
      "outputs": [
        {
          "output_type": "stream",
          "text": [
            "Mounted at /content/drive\n"
          ],
          "name": "stdout"
        }
      ]
    },
    {
      "cell_type": "code",
      "metadata": {
        "id": "tPwoM8pjKJxw",
        "colab": {
          "base_uri": "https://localhost:8080/"
        },
        "outputId": "a4db7ca4-65c3-4605-d0ef-3816effbf29a"
      },
      "source": [
        "# Run this if you are on colab\n",
        "!pip install git+https://github.com/modichirag/flowpm.git\n",
        "!git clone https://github.com/modichirag/flowpm.git "
      ],
      "execution_count": 14,
      "outputs": [
        {
          "output_type": "stream",
          "text": [
            "Collecting git+https://github.com/modichirag/flowpm.git\n",
            "  Cloning https://github.com/modichirag/flowpm.git to /tmp/pip-req-build-fgeo8i_v\n",
            "  Running command git clone -q https://github.com/modichirag/flowpm.git /tmp/pip-req-build-fgeo8i_v\n",
            "Requirement already satisfied: astropy in /usr/local/lib/python3.6/dist-packages (from flowpm==0.1rc2.dev257+g87ded06) (4.1)\n",
            "Requirement already satisfied: scipy in /usr/local/lib/python3.6/dist-packages (from flowpm==0.1rc2.dev257+g87ded06) (1.4.1)\n",
            "Collecting mesh-tensorflow\n",
            "\u001b[?25l  Downloading https://files.pythonhosted.org/packages/e1/20/23bbc94034e16bb1ace73e9e7922226e31d6d36b88dcfa257d2c59b3f465/mesh_tensorflow-0.1.18-py3-none-any.whl (361kB)\n",
            "\u001b[K     |████████████████████████████████| 368kB 22.1MB/s \n",
            "\u001b[?25hRequirement already satisfied: tensorflow_probability in /usr/local/lib/python3.6/dist-packages (from flowpm==0.1rc2.dev257+g87ded06) (0.11.0)\n",
            "Requirement already satisfied: numpy>=1.16 in /usr/local/lib/python3.6/dist-packages (from astropy->flowpm==0.1rc2.dev257+g87ded06) (1.19.4)\n",
            "Requirement already satisfied: absl-py in /usr/local/lib/python3.6/dist-packages (from mesh-tensorflow->flowpm==0.1rc2.dev257+g87ded06) (0.10.0)\n",
            "Requirement already satisfied: six in /usr/local/lib/python3.6/dist-packages (from mesh-tensorflow->flowpm==0.1rc2.dev257+g87ded06) (1.15.0)\n",
            "Requirement already satisfied: gin-config in /usr/local/lib/python3.6/dist-packages (from mesh-tensorflow->flowpm==0.1rc2.dev257+g87ded06) (0.4.0)\n",
            "Requirement already satisfied: future in /usr/local/lib/python3.6/dist-packages (from mesh-tensorflow->flowpm==0.1rc2.dev257+g87ded06) (0.16.0)\n",
            "Requirement already satisfied: cloudpickle==1.3 in /usr/local/lib/python3.6/dist-packages (from tensorflow_probability->flowpm==0.1rc2.dev257+g87ded06) (1.3.0)\n",
            "Requirement already satisfied: decorator in /usr/local/lib/python3.6/dist-packages (from tensorflow_probability->flowpm==0.1rc2.dev257+g87ded06) (4.4.2)\n",
            "Requirement already satisfied: gast>=0.3.2 in /usr/local/lib/python3.6/dist-packages (from tensorflow_probability->flowpm==0.1rc2.dev257+g87ded06) (0.3.3)\n",
            "Requirement already satisfied: dm-tree in /usr/local/lib/python3.6/dist-packages (from tensorflow_probability->flowpm==0.1rc2.dev257+g87ded06) (0.1.5)\n",
            "Building wheels for collected packages: flowpm\n",
            "  Building wheel for flowpm (setup.py) ... \u001b[?25l\u001b[?25hdone\n",
            "  Created wheel for flowpm: filename=flowpm-0.1rc2.dev257+g87ded06-cp36-none-any.whl size=33764 sha256=c053b971ae03611cc586aa8295681c5ea9e07347bdcfdd0490dda6fefda82d47\n",
            "  Stored in directory: /tmp/pip-ephem-wheel-cache-w_qofkxz/wheels/c9/23/31/1ea68dc6cc2385226f39532d708dba63dd1c5b081acdc14705\n",
            "Successfully built flowpm\n",
            "Installing collected packages: mesh-tensorflow, flowpm\n",
            "Successfully installed flowpm-0.1rc2.dev257+g87ded06 mesh-tensorflow-0.1.18\n",
            "Cloning into 'flowpm'...\n",
            "remote: Enumerating objects: 154, done.\u001b[K\n",
            "remote: Counting objects: 100% (154/154), done.\u001b[K\n",
            "remote: Compressing objects: 100% (126/126), done.\u001b[K\n",
            "remote: Total 1892 (delta 92), reused 61 (delta 28), pack-reused 1738\u001b[K\n",
            "Receiving objects: 100% (1892/1892), 9.03 MiB | 29.44 MiB/s, done.\n",
            "Resolving deltas: 100% (1246/1246), done.\n"
          ],
          "name": "stdout"
        }
      ]
    },
    {
      "cell_type": "code",
      "metadata": {
        "id": "XhHQnX9cbGGZ",
        "colab": {
          "base_uri": "https://localhost:8080/"
        },
        "outputId": "0da20f36-2c1c-4de4-be54-465cf261edf0"
      },
      "source": [
        "%pylab inline\n",
        "import tensorflow as tf\n",
        "import numpy as np\n",
        "from scipy.interpolate import InterpolatedUnivariateSpline as iuspline\n",
        "\n",
        "# You may need to adapt this path depending on where you are running the notebook\n",
        "# This is the power spectrum of initial conditions\n",
        "klin = np.loadtxt('flowpm/flowpm/data/Planck15_a1p00.txt').T[0]\n",
        "plin = np.loadtxt('flowpm/flowpm/data/Planck15_a1p00.txt').T[1]\n",
        "\n",
        "ipklin = iuspline(klin, plin)"
      ],
      "execution_count": 15,
      "outputs": [
        {
          "output_type": "stream",
          "text": [
            "Populating the interactive namespace from numpy and matplotlib\n"
          ],
          "name": "stdout"
        }
      ]
    },
    {
      "cell_type": "code",
      "metadata": {
        "id": "t5C12OPAO0GU",
        "colab": {
          "base_uri": "https://localhost:8080/"
        },
        "outputId": "50545757-89fd-4bf0-d882-f7c05c2cdb8c"
      },
      "source": [
        "import flowpm\n",
        "\n",
        "stages = np.linspace(0.1, 1.0, 10, endpoint=True)\n",
        "\n",
        "initial_conditions = flowpm.linear_field(32,          # size of the cube\n",
        "                                         100,         # Physical size of the cube\n",
        "                                         ipklin,      # Initial powerspectrum\n",
        "                                         batch_size=500)\n",
        "\n",
        "# Sample particles\n",
        "state = flowpm.lpt_init(initial_conditions, a=0.1)   \n",
        "\n",
        "# Evolve particles down to z=0\n",
        "final_state = flowpm.nbody(state, stages, 32)         \n",
        "\n",
        "# Retrieve final density field\n",
        "final_field = flowpm.cic_paint(tf.zeros_like(initial_conditions), final_state[0])"
      ],
      "execution_count": 16,
      "outputs": [
        {
          "output_type": "stream",
          "text": [
            "WARNING:tensorflow:@custom_gradient grad_fn has 'variables' in signature, but no ResourceVariables were used on the forward pass.\n"
          ],
          "name": "stdout"
        }
      ]
    },
    {
      "cell_type": "code",
      "metadata": {
        "id": "ojUgnPaOKwIL",
        "colab": {
          "base_uri": "https://localhost:8080/"
        },
        "outputId": "08af872b-b0d7-490f-9efa-fb1eb2bd1276"
      },
      "source": [
        "print(initial_conditions.shape, final_field.shape)\n",
        "print(type(initial_conditions), type(final_field))"
      ],
      "execution_count": 20,
      "outputs": [
        {
          "output_type": "stream",
          "text": [
            "(500, 32, 32, 32) (500, 32, 32, 32)\n",
            "<class 'tensorflow.python.framework.ops.EagerTensor'> <class 'tensorflow.python.framework.ops.EagerTensor'>\n"
          ],
          "name": "stdout"
        }
      ]
    },
    {
      "cell_type": "code",
      "metadata": {
        "colab": {
          "base_uri": "https://localhost:8080/",
          "height": 283
        },
        "id": "mAaXAOlrQJFm",
        "outputId": "7e075d1d-9417-4c19-c581-d5b00287d73f"
      },
      "source": [
        "imshow(initial_conditions[12].numpy().sum(axis=0))"
      ],
      "execution_count": 18,
      "outputs": [
        {
          "output_type": "execute_result",
          "data": {
            "text/plain": [
              "<matplotlib.image.AxesImage at 0x7f8d2f3b56d8>"
            ]
          },
          "metadata": {
            "tags": []
          },
          "execution_count": 18
        },
        {
          "output_type": "display_data",
          "data": {
            "image/png": "[encoded data removed]",
            "text/plain": [
              "<Figure size 432x288 with 1 Axes>"
            ]
          },
          "metadata": {
            "tags": [],
            "needs_background": "light"
          }
        }
      ]
    },
    {
      "cell_type": "code",
      "metadata": {
        "id": "Kjgs6YBnbGGa",
        "colab": {
          "base_uri": "https://localhost:8080/",
          "height": 283
        },
        "outputId": "c47aec13-a424-4b25-a9cf-aea15d4d5580"
      },
      "source": [
        "imshow(final_field[12].numpy().sum(axis=0))"
      ],
      "execution_count": 19,
      "outputs": [
        {
          "output_type": "execute_result",
          "data": {
            "text/plain": [
              "<matplotlib.image.AxesImage at 0x7f8d2e694ac8>"
            ]
          },
          "metadata": {
            "tags": []
          },
          "execution_count": 19
        },
        {
          "output_type": "display_data",
          "data": {
            "image/png": "[encoded data removed]",
            "text/plain": [
              "<Figure size 432x288 with 1 Axes>"
            ]
          },
          "metadata": {
            "tags": [],
            "needs_background": "light"
          }
        }
      ]
    },
    {
      "cell_type": "code",
      "metadata": {
        "id": "H4BuPnZTLAUy"
      },
      "source": [
        ""
      ],
      "execution_count": null,
      "outputs": []
    }
  ]
}